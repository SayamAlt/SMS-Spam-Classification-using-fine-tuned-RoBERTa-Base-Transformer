{
 "cells": [
  {
   "cell_type": "markdown",
   "id": "d1d0cb65",
   "metadata": {
    "papermill": {
     "duration": 0.009984,
     "end_time": "2022-12-14T21:28:02.608709",
     "exception": false,
     "start_time": "2022-12-14T21:28:02.598725",
     "status": "completed"
    },
    "tags": []
   },
   "source": [
    "## Importing the necessary libraries"
   ]
  },
  {
   "cell_type": "code",
   "execution_count": 1,
   "id": "b06aedd2",
   "metadata": {
    "_cell_guid": "b1076dfc-b9ad-4769-8c92-a6c4dae69d19",
    "_uuid": "8f2839f25d086af736a60e9eeb907d3b93b6e0e5",
    "execution": {
     "iopub.execute_input": "2022-12-14T21:28:02.630512Z",
     "iopub.status.busy": "2022-12-14T21:28:02.629428Z",
     "iopub.status.idle": "2022-12-14T21:28:02.648856Z",
     "shell.execute_reply": "2022-12-14T21:28:02.647939Z"
    },
    "papermill": {
     "duration": 0.034194,
     "end_time": "2022-12-14T21:28:02.652086",
     "exception": false,
     "start_time": "2022-12-14T21:28:02.617892",
     "status": "completed"
    },
    "tags": []
   },
   "outputs": [
    {
     "name": "stdout",
     "output_type": "stream",
     "text": [
      "/kaggle/input/sms-spam-collection-a-more-diverse-dataset/train.csv\n"
     ]
    }
   ],
   "source": [
    "# This Python 3 environment comes with many helpful analytics libraries installed\n",
    "# It is defined by the kaggle/python Docker image: https://github.com/kaggle/docker-python\n",
    "# For example, here's several helpful packages to load\n",
    "\n",
    "import numpy as np # linear algebra\n",
    "import pandas as pd # data processing, CSV file I/O (e.g. pd.read_csv)\n",
    "\n",
    "# Input data files are available in the read-only \"../input/\" directory\n",
    "# For example, running this (by clicking run or pressing Shift+Enter) will list all files under the input directory\n",
    "\n",
    "import os\n",
    "for dirname, _, filenames in os.walk('/kaggle/input'):\n",
    "    for filename in filenames:\n",
    "        print(os.path.join(dirname, filename))\n",
    "\n",
    "# You can write up to 20GB to the current directory (/kaggle/working/) that gets preserved as output when you create a version using \"Save & Run All\" \n",
    "# You can also write temporary files to /kaggle/temp/, but they won't be saved outside of the current session"
   ]
  },
  {
   "cell_type": "code",
   "execution_count": 2,
   "id": "a6a7e3b0",
   "metadata": {
    "execution": {
     "iopub.execute_input": "2022-12-14T21:28:02.675326Z",
     "iopub.status.busy": "2022-12-14T21:28:02.674380Z",
     "iopub.status.idle": "2022-12-14T21:28:17.002446Z",
     "shell.execute_reply": "2022-12-14T21:28:17.001224Z"
    },
    "papermill": {
     "duration": 14.34038,
     "end_time": "2022-12-14T21:28:17.004735",
     "exception": false,
     "start_time": "2022-12-14T21:28:02.664355",
     "status": "completed"
    },
    "tags": []
   },
   "outputs": [
    {
     "name": "stdout",
     "output_type": "stream",
     "text": [
      "Collecting wget\r\n",
      "  Downloading wget-3.2.zip (10 kB)\r\n",
      "  Preparing metadata (setup.py) ... \u001b[?25l-\b \bdone\r\n",
      "\u001b[?25hBuilding wheels for collected packages: wget\r\n",
      "  Building wheel for wget (setup.py) ... \u001b[?25l-\b \b\\\b \bdone\r\n",
      "\u001b[?25h  Created wheel for wget: filename=wget-3.2-py3-none-any.whl size=9675 sha256=4974772567af9aebe3b5db1ced8c8588fbc6188e25eec7d03079cd8549ca7015\r\n",
      "  Stored in directory: /root/.cache/pip/wheels/a1/b6/7c/0e63e34eb06634181c63adacca38b79ff8f35c37e3c13e3c02\r\n",
      "Successfully built wget\r\n",
      "Installing collected packages: wget\r\n",
      "Successfully installed wget-3.2\r\n",
      "\u001b[33mWARNING: Running pip as the 'root' user can result in broken permissions and conflicting behaviour with the system package manager. It is recommended to use a virtual environment instead: https://pip.pypa.io/warnings/venv\u001b[0m\u001b[33m\r\n",
      "\u001b[0m"
     ]
    }
   ],
   "source": [
    "!pip install wget"
   ]
  },
  {
   "cell_type": "code",
   "execution_count": 3,
   "id": "bc40f01a",
   "metadata": {
    "execution": {
     "iopub.execute_input": "2022-12-14T21:28:17.025669Z",
     "iopub.status.busy": "2022-12-14T21:28:17.024776Z",
     "iopub.status.idle": "2022-12-14T21:28:26.454559Z",
     "shell.execute_reply": "2022-12-14T21:28:26.453326Z"
    },
    "papermill": {
     "duration": 9.442752,
     "end_time": "2022-12-14T21:28:26.457227",
     "exception": false,
     "start_time": "2022-12-14T21:28:17.014475",
     "status": "completed"
    },
    "tags": []
   },
   "outputs": [
    {
     "name": "stdout",
     "output_type": "stream",
     "text": [
      "Requirement already satisfied: transformers in /opt/conda/lib/python3.7/site-packages (4.20.1)\r\n",
      "Requirement already satisfied: requests in /opt/conda/lib/python3.7/site-packages (from transformers) (2.28.1)\r\n",
      "Requirement already satisfied: packaging>=20.0 in /opt/conda/lib/python3.7/site-packages (from transformers) (21.3)\r\n",
      "Requirement already satisfied: filelock in /opt/conda/lib/python3.7/site-packages (from transformers) (3.7.1)\r\n",
      "Requirement already satisfied: pyyaml>=5.1 in /opt/conda/lib/python3.7/site-packages (from transformers) (6.0)\r\n",
      "Requirement already satisfied: tqdm>=4.27 in /opt/conda/lib/python3.7/site-packages (from transformers) (4.64.0)\r\n",
      "Requirement already satisfied: importlib-metadata in /opt/conda/lib/python3.7/site-packages (from transformers) (4.13.0)\r\n",
      "Requirement already satisfied: huggingface-hub<1.0,>=0.1.0 in /opt/conda/lib/python3.7/site-packages (from transformers) (0.10.1)\r\n",
      "Requirement already satisfied: tokenizers!=0.11.3,<0.13,>=0.11.1 in /opt/conda/lib/python3.7/site-packages (from transformers) (0.12.1)\r\n",
      "Requirement already satisfied: regex!=2019.12.17 in /opt/conda/lib/python3.7/site-packages (from transformers) (2021.11.10)\r\n",
      "Requirement already satisfied: numpy>=1.17 in /opt/conda/lib/python3.7/site-packages (from transformers) (1.21.6)\r\n",
      "Requirement already satisfied: typing-extensions>=3.7.4.3 in /opt/conda/lib/python3.7/site-packages (from huggingface-hub<1.0,>=0.1.0->transformers) (4.1.1)\r\n",
      "Requirement already satisfied: pyparsing!=3.0.5,>=2.0.2 in /opt/conda/lib/python3.7/site-packages (from packaging>=20.0->transformers) (3.0.9)\r\n",
      "Requirement already satisfied: zipp>=0.5 in /opt/conda/lib/python3.7/site-packages (from importlib-metadata->transformers) (3.8.0)\r\n",
      "Requirement already satisfied: idna<4,>=2.5 in /opt/conda/lib/python3.7/site-packages (from requests->transformers) (3.3)\r\n",
      "Requirement already satisfied: certifi>=2017.4.17 in /opt/conda/lib/python3.7/site-packages (from requests->transformers) (2022.9.24)\r\n",
      "Requirement already satisfied: charset-normalizer<3,>=2 in /opt/conda/lib/python3.7/site-packages (from requests->transformers) (2.1.0)\r\n",
      "Requirement already satisfied: urllib3<1.27,>=1.21.1 in /opt/conda/lib/python3.7/site-packages (from requests->transformers) (1.26.12)\r\n",
      "\u001b[33mWARNING: Running pip as the 'root' user can result in broken permissions and conflicting behaviour with the system package manager. It is recommended to use a virtual environment instead: https://pip.pypa.io/warnings/venv\u001b[0m\u001b[33m\r\n",
      "\u001b[0m"
     ]
    }
   ],
   "source": [
    "!pip install transformers"
   ]
  },
  {
   "cell_type": "code",
   "execution_count": 4,
   "id": "093aa82c",
   "metadata": {
    "execution": {
     "iopub.execute_input": "2022-12-14T21:28:26.478471Z",
     "iopub.status.busy": "2022-12-14T21:28:26.478161Z",
     "iopub.status.idle": "2022-12-14T21:28:26.672783Z",
     "shell.execute_reply": "2022-12-14T21:28:26.671829Z"
    },
    "papermill": {
     "duration": 0.207681,
     "end_time": "2022-12-14T21:28:26.674792",
     "exception": false,
     "start_time": "2022-12-14T21:28:26.467111",
     "status": "completed"
    },
    "tags": []
   },
   "outputs": [
    {
     "data": {
      "text/plain": [
       "'helper_prabowo_ml.py'"
      ]
     },
     "execution_count": 4,
     "metadata": {},
     "output_type": "execute_result"
    }
   ],
   "source": [
    "import wget\n",
    "wget.download(\"https://raw.githubusercontent.com/yogawicaksana/helper_prabowo/main/helper_prabowo_ml.py\",out=\"helper_prabowo_ml.py\")"
   ]
  },
  {
   "cell_type": "code",
   "execution_count": 5,
   "id": "5156ee1d",
   "metadata": {
    "execution": {
     "iopub.execute_input": "2022-12-14T21:28:26.695601Z",
     "iopub.status.busy": "2022-12-14T21:28:26.694769Z",
     "iopub.status.idle": "2022-12-14T21:28:40.195987Z",
     "shell.execute_reply": "2022-12-14T21:28:40.195042Z"
    },
    "papermill": {
     "duration": 13.51393,
     "end_time": "2022-12-14T21:28:40.198438",
     "exception": false,
     "start_time": "2022-12-14T21:28:26.684508",
     "status": "completed"
    },
    "tags": []
   },
   "outputs": [
    {
     "name": "stderr",
     "output_type": "stream",
     "text": [
      "[nltk_data] Downloading package stopwords to /usr/share/nltk_data...\n",
      "[nltk_data]   Package stopwords is already up-to-date!\n"
     ]
    }
   ],
   "source": [
    "import tensorflow as tf\n",
    "import matplotlib.pyplot as plt\n",
    "import seaborn as sns\n",
    "import warnings\n",
    "warnings.filterwarnings(\"ignore\")\n",
    "from helper_prabowo_ml import clean_html, remove_links, remove_special_characters, removeStopWords, remove_, remove_digits, lower, email_address, non_ascii, punct, hashtags\n",
    "from wordcloud import WordCloud\n",
    "from tensorflow.keras.layers import Input, Dense, Dropout, Flatten\n",
    "from tensorflow.keras.models import Model\n",
    "from tensorflow.keras.optimizers import Adam\n",
    "from tensorflow.keras.losses import BinaryCrossentropy\n",
    "from tensorflow.keras.metrics import BinaryAccuracy\n",
    "from tensorflow.keras.callbacks import EarlyStopping, ModelCheckpoint\n",
    "from sklearn.model_selection import train_test_split\n",
    "from transformers import AutoTokenizer, TFAutoModelForSequenceClassification\n",
    "from tensorflow.keras.utils import to_categorical, plot_model\n",
    "from sklearn.metrics import confusion_matrix, classification_report"
   ]
  },
  {
   "cell_type": "code",
   "execution_count": 6,
   "id": "63d42243",
   "metadata": {
    "execution": {
     "iopub.execute_input": "2022-12-14T21:28:40.220060Z",
     "iopub.status.busy": "2022-12-14T21:28:40.218837Z",
     "iopub.status.idle": "2022-12-14T21:28:40.224043Z",
     "shell.execute_reply": "2022-12-14T21:28:40.223211Z"
    },
    "papermill": {
     "duration": 0.017705,
     "end_time": "2022-12-14T21:28:40.226023",
     "exception": false,
     "start_time": "2022-12-14T21:28:40.208318",
     "status": "completed"
    },
    "tags": []
   },
   "outputs": [],
   "source": [
    "plt.rcParams['figure.figsize'] = (12,8)"
   ]
  },
  {
   "cell_type": "markdown",
   "id": "6a221089",
   "metadata": {
    "papermill": {
     "duration": 0.009474,
     "end_time": "2022-12-14T21:28:40.244942",
     "exception": false,
     "start_time": "2022-12-14T21:28:40.235468",
     "status": "completed"
    },
    "tags": []
   },
   "source": [
    "## Loading the SMS spam collection dataset"
   ]
  },
  {
   "cell_type": "code",
   "execution_count": 7,
   "id": "1d46c4c5",
   "metadata": {
    "execution": {
     "iopub.execute_input": "2022-12-14T21:28:40.265063Z",
     "iopub.status.busy": "2022-12-14T21:28:40.264733Z",
     "iopub.status.idle": "2022-12-14T21:28:40.319645Z",
     "shell.execute_reply": "2022-12-14T21:28:40.318652Z"
    },
    "papermill": {
     "duration": 0.06734,
     "end_time": "2022-12-14T21:28:40.321803",
     "exception": false,
     "start_time": "2022-12-14T21:28:40.254463",
     "status": "completed"
    },
    "tags": []
   },
   "outputs": [
    {
     "data": {
      "text/html": [
       "<div>\n",
       "<style scoped>\n",
       "    .dataframe tbody tr th:only-of-type {\n",
       "        vertical-align: middle;\n",
       "    }\n",
       "\n",
       "    .dataframe tbody tr th {\n",
       "        vertical-align: top;\n",
       "    }\n",
       "\n",
       "    .dataframe thead th {\n",
       "        text-align: right;\n",
       "    }\n",
       "</style>\n",
       "<table border=\"1\" class=\"dataframe\">\n",
       "  <thead>\n",
       "    <tr style=\"text-align: right;\">\n",
       "      <th></th>\n",
       "      <th>sms</th>\n",
       "      <th>label</th>\n",
       "    </tr>\n",
       "  </thead>\n",
       "  <tbody>\n",
       "    <tr>\n",
       "      <th>0</th>\n",
       "      <td>Go until jurong point, crazy.. Available only ...</td>\n",
       "      <td>0</td>\n",
       "    </tr>\n",
       "    <tr>\n",
       "      <th>1</th>\n",
       "      <td>Ok lar... Joking wif u oni...\\n</td>\n",
       "      <td>0</td>\n",
       "    </tr>\n",
       "    <tr>\n",
       "      <th>2</th>\n",
       "      <td>Free entry in 2 a wkly comp to win FA Cup fina...</td>\n",
       "      <td>1</td>\n",
       "    </tr>\n",
       "    <tr>\n",
       "      <th>3</th>\n",
       "      <td>U dun say so early hor... U c already then say...</td>\n",
       "      <td>0</td>\n",
       "    </tr>\n",
       "    <tr>\n",
       "      <th>4</th>\n",
       "      <td>Nah I don't think he goes to usf, he lives aro...</td>\n",
       "      <td>0</td>\n",
       "    </tr>\n",
       "  </tbody>\n",
       "</table>\n",
       "</div>"
      ],
      "text/plain": [
       "                                                 sms  label\n",
       "0  Go until jurong point, crazy.. Available only ...      0\n",
       "1                    Ok lar... Joking wif u oni...\\n      0\n",
       "2  Free entry in 2 a wkly comp to win FA Cup fina...      1\n",
       "3  U dun say so early hor... U c already then say...      0\n",
       "4  Nah I don't think he goes to usf, he lives aro...      0"
      ]
     },
     "execution_count": 7,
     "metadata": {},
     "output_type": "execute_result"
    }
   ],
   "source": [
    "df = pd.read_csv(\"/kaggle/input/sms-spam-collection-a-more-diverse-dataset/train.csv\")\n",
    "df.head()"
   ]
  },
  {
   "cell_type": "markdown",
   "id": "1988ac79",
   "metadata": {
    "papermill": {
     "duration": 0.009348,
     "end_time": "2022-12-14T21:28:40.340995",
     "exception": false,
     "start_time": "2022-12-14T21:28:40.331647",
     "status": "completed"
    },
    "tags": []
   },
   "source": [
    "## Feature Engineering"
   ]
  },
  {
   "cell_type": "code",
   "execution_count": 8,
   "id": "65105665",
   "metadata": {
    "execution": {
     "iopub.execute_input": "2022-12-14T21:28:40.360989Z",
     "iopub.status.busy": "2022-12-14T21:28:40.360693Z",
     "iopub.status.idle": "2022-12-14T21:28:40.366006Z",
     "shell.execute_reply": "2022-12-14T21:28:40.365115Z"
    },
    "papermill": {
     "duration": 0.017436,
     "end_time": "2022-12-14T21:28:40.367857",
     "exception": false,
     "start_time": "2022-12-14T21:28:40.350421",
     "status": "completed"
    },
    "tags": []
   },
   "outputs": [
    {
     "data": {
      "text/plain": [
       "(5574, 2)"
      ]
     },
     "execution_count": 8,
     "metadata": {},
     "output_type": "execute_result"
    }
   ],
   "source": [
    "df.shape"
   ]
  },
  {
   "cell_type": "code",
   "execution_count": 9,
   "id": "51b1aa9d",
   "metadata": {
    "execution": {
     "iopub.execute_input": "2022-12-14T21:28:40.388577Z",
     "iopub.status.busy": "2022-12-14T21:28:40.387966Z",
     "iopub.status.idle": "2022-12-14T21:28:40.395794Z",
     "shell.execute_reply": "2022-12-14T21:28:40.394932Z"
    },
    "papermill": {
     "duration": 0.020242,
     "end_time": "2022-12-14T21:28:40.397845",
     "exception": false,
     "start_time": "2022-12-14T21:28:40.377603",
     "status": "completed"
    },
    "tags": []
   },
   "outputs": [
    {
     "data": {
      "text/plain": [
       "sms      0\n",
       "label    0\n",
       "dtype: int64"
      ]
     },
     "execution_count": 9,
     "metadata": {},
     "output_type": "execute_result"
    }
   ],
   "source": [
    "df.isna().sum()"
   ]
  },
  {
   "cell_type": "code",
   "execution_count": 10,
   "id": "0d612e86",
   "metadata": {
    "execution": {
     "iopub.execute_input": "2022-12-14T21:28:40.418438Z",
     "iopub.status.busy": "2022-12-14T21:28:40.418175Z",
     "iopub.status.idle": "2022-12-14T21:28:40.434422Z",
     "shell.execute_reply": "2022-12-14T21:28:40.433466Z"
    },
    "papermill": {
     "duration": 0.028658,
     "end_time": "2022-12-14T21:28:40.436316",
     "exception": false,
     "start_time": "2022-12-14T21:28:40.407658",
     "status": "completed"
    },
    "tags": []
   },
   "outputs": [
    {
     "data": {
      "text/plain": [
       "403"
      ]
     },
     "execution_count": 10,
     "metadata": {},
     "output_type": "execute_result"
    }
   ],
   "source": [
    "df.duplicated().sum()"
   ]
  },
  {
   "cell_type": "code",
   "execution_count": 11,
   "id": "9a46220f",
   "metadata": {
    "execution": {
     "iopub.execute_input": "2022-12-14T21:28:40.456987Z",
     "iopub.status.busy": "2022-12-14T21:28:40.456713Z",
     "iopub.status.idle": "2022-12-14T21:28:40.467158Z",
     "shell.execute_reply": "2022-12-14T21:28:40.466215Z"
    },
    "papermill": {
     "duration": 0.022882,
     "end_time": "2022-12-14T21:28:40.469043",
     "exception": false,
     "start_time": "2022-12-14T21:28:40.446161",
     "status": "completed"
    },
    "tags": []
   },
   "outputs": [
    {
     "data": {
      "text/plain": [
       "(5171, 2)"
      ]
     },
     "execution_count": 11,
     "metadata": {},
     "output_type": "execute_result"
    }
   ],
   "source": [
    "df = df.drop_duplicates()\n",
    "df.shape"
   ]
  },
  {
   "cell_type": "code",
   "execution_count": 12,
   "id": "d642b71d",
   "metadata": {
    "execution": {
     "iopub.execute_input": "2022-12-14T21:28:40.490425Z",
     "iopub.status.busy": "2022-12-14T21:28:40.489782Z",
     "iopub.status.idle": "2022-12-14T21:28:40.497673Z",
     "shell.execute_reply": "2022-12-14T21:28:40.496761Z"
    },
    "papermill": {
     "duration": 0.02059,
     "end_time": "2022-12-14T21:28:40.499671",
     "exception": false,
     "start_time": "2022-12-14T21:28:40.479081",
     "status": "completed"
    },
    "tags": []
   },
   "outputs": [
    {
     "data": {
      "text/plain": [
       "0"
      ]
     },
     "execution_count": 12,
     "metadata": {},
     "output_type": "execute_result"
    }
   ],
   "source": [
    "df.sms.str.isspace().sum()"
   ]
  },
  {
   "cell_type": "code",
   "execution_count": 13,
   "id": "93c60f70",
   "metadata": {
    "execution": {
     "iopub.execute_input": "2022-12-14T21:28:40.521069Z",
     "iopub.status.busy": "2022-12-14T21:28:40.520802Z",
     "iopub.status.idle": "2022-12-14T21:28:40.905797Z",
     "shell.execute_reply": "2022-12-14T21:28:40.904764Z"
    },
    "papermill": {
     "duration": 0.398094,
     "end_time": "2022-12-14T21:28:40.908031",
     "exception": false,
     "start_time": "2022-12-14T21:28:40.509937",
     "status": "completed"
    },
    "tags": []
   },
   "outputs": [
    {
     "data": {
      "image/png": "[encoded data removed]",
      "text/plain": [
       "<Figure size 864x576 with 1 Axes>"
      ]
     },
     "metadata": {
      "needs_background": "light"
     },
     "output_type": "display_data"
    }
   ],
   "source": [
    "df['num_words'] = df.sms.apply(len)\n",
    "sns.distplot(df.num_words);"
   ]
  },
  {
   "cell_type": "code",
   "execution_count": 14,
   "id": "39036fc5",
   "metadata": {
    "execution": {
     "iopub.execute_input": "2022-12-14T21:28:40.932411Z",
     "iopub.status.busy": "2022-12-14T21:28:40.931496Z",
     "iopub.status.idle": "2022-12-14T21:28:41.311697Z",
     "shell.execute_reply": "2022-12-14T21:28:41.310780Z"
    },
    "papermill": {
     "duration": 0.39465,
     "end_time": "2022-12-14T21:28:41.313895",
     "exception": false,
     "start_time": "2022-12-14T21:28:40.919245",
     "status": "completed"
    },
    "tags": []
   },
   "outputs": [
    {
     "data": {
      "image/png": "[encoded data removed]",
      "text/plain": [
       "<Figure size 864x576 with 1 Axes>"
      ]
     },
     "metadata": {
      "needs_background": "light"
     },
     "output_type": "display_data"
    }
   ],
   "source": [
    "sns.histplot(df.num_words);"
   ]
  },
  {
   "cell_type": "code",
   "execution_count": 15,
   "id": "1850db74",
   "metadata": {
    "execution": {
     "iopub.execute_input": "2022-12-14T21:28:41.337659Z",
     "iopub.status.busy": "2022-12-14T21:28:41.336819Z",
     "iopub.status.idle": "2022-12-14T21:28:41.344136Z",
     "shell.execute_reply": "2022-12-14T21:28:41.343261Z"
    },
    "papermill": {
     "duration": 0.021122,
     "end_time": "2022-12-14T21:28:41.346222",
     "exception": false,
     "start_time": "2022-12-14T21:28:41.325100",
     "status": "completed"
    },
    "tags": []
   },
   "outputs": [
    {
     "name": "stdout",
     "output_type": "stream",
     "text": [
      "Average number of words in an SMS: 80.33243086443628\n"
     ]
    }
   ],
   "source": [
    "print(\"Average number of words in an SMS:\",df.num_words.mean())"
   ]
  },
  {
   "cell_type": "code",
   "execution_count": 16,
   "id": "2655ff5c",
   "metadata": {
    "execution": {
     "iopub.execute_input": "2022-12-14T21:28:41.368904Z",
     "iopub.status.busy": "2022-12-14T21:28:41.368619Z",
     "iopub.status.idle": "2022-12-14T21:28:41.379164Z",
     "shell.execute_reply": "2022-12-14T21:28:41.378156Z"
    },
    "papermill": {
     "duration": 0.024048,
     "end_time": "2022-12-14T21:28:41.381198",
     "exception": false,
     "start_time": "2022-12-14T21:28:41.357150",
     "status": "completed"
    },
    "tags": []
   },
   "outputs": [
    {
     "data": {
      "text/plain": [
       "count    5171.000000\n",
       "mean       80.332431\n",
       "std        58.333188\n",
       "min         3.000000\n",
       "25%        37.000000\n",
       "50%        62.000000\n",
       "75%       120.000000\n",
       "max       911.000000\n",
       "Name: num_words, dtype: float64"
      ]
     },
     "execution_count": 16,
     "metadata": {},
     "output_type": "execute_result"
    }
   ],
   "source": [
    "df.num_words.describe()"
   ]
  },
  {
   "cell_type": "code",
   "execution_count": 17,
   "id": "d36534c5",
   "metadata": {
    "execution": {
     "iopub.execute_input": "2022-12-14T21:28:41.405363Z",
     "iopub.status.busy": "2022-12-14T21:28:41.404583Z",
     "iopub.status.idle": "2022-12-14T21:28:41.409246Z",
     "shell.execute_reply": "2022-12-14T21:28:41.408367Z"
    },
    "papermill": {
     "duration": 0.018425,
     "end_time": "2022-12-14T21:28:41.411174",
     "exception": false,
     "start_time": "2022-12-14T21:28:41.392749",
     "status": "completed"
    },
    "tags": []
   },
   "outputs": [],
   "source": [
    "max_len = 80"
   ]
  },
  {
   "cell_type": "code",
   "execution_count": 18,
   "id": "32dd8c51",
   "metadata": {
    "execution": {
     "iopub.execute_input": "2022-12-14T21:28:41.434392Z",
     "iopub.status.busy": "2022-12-14T21:28:41.433645Z",
     "iopub.status.idle": "2022-12-14T21:28:42.632577Z",
     "shell.execute_reply": "2022-12-14T21:28:42.630843Z"
    },
    "papermill": {
     "duration": 1.214957,
     "end_time": "2022-12-14T21:28:42.637164",
     "exception": false,
     "start_time": "2022-12-14T21:28:41.422207",
     "status": "completed"
    },
    "tags": []
   },
   "outputs": [
    {
     "data": {
      "image/png": "[encoded data removed]",
      "text/plain": [
       "<Figure size 864x576 with 1 Axes>"
      ]
     },
     "metadata": {
      "needs_background": "light"
     },
     "output_type": "display_data"
    }
   ],
   "source": [
    "wc = WordCloud(width=600,height=300,random_state=101).generate(' '.join(df.sms))\n",
    "plt.imshow(wc);"
   ]
  },
  {
   "cell_type": "code",
   "execution_count": 19,
   "id": "4473d0b2",
   "metadata": {
    "execution": {
     "iopub.execute_input": "2022-12-14T21:28:42.676519Z",
     "iopub.status.busy": "2022-12-14T21:28:42.676204Z",
     "iopub.status.idle": "2022-12-14T21:28:42.857088Z",
     "shell.execute_reply": "2022-12-14T21:28:42.856338Z"
    },
    "papermill": {
     "duration": 0.197446,
     "end_time": "2022-12-14T21:28:42.859067",
     "exception": false,
     "start_time": "2022-12-14T21:28:42.661621",
     "status": "completed"
    },
    "tags": []
   },
   "outputs": [
    {
     "data": {
      "image/png": "[encoded data removed]",
      "text/plain": [
       "<Figure size 864x576 with 1 Axes>"
      ]
     },
     "metadata": {
      "needs_background": "light"
     },
     "output_type": "display_data"
    }
   ],
   "source": [
    "sns.countplot(df.label);"
   ]
  },
  {
   "cell_type": "markdown",
   "id": "968606a0",
   "metadata": {
    "papermill": {
     "duration": 0.013667,
     "end_time": "2022-12-14T21:28:42.887037",
     "exception": false,
     "start_time": "2022-12-14T21:28:42.873370",
     "status": "completed"
    },
    "tags": []
   },
   "source": [
    "The dataset is highly imbalanced as clearly indicated by the above countplot. The total count of \"spam\" SMSs is very less as compared to that of legitimate and valid SMSs."
   ]
  },
  {
   "cell_type": "markdown",
   "id": "d35febfb",
   "metadata": {
    "papermill": {
     "duration": 0.01329,
     "end_time": "2022-12-14T21:28:42.914115",
     "exception": false,
     "start_time": "2022-12-14T21:28:42.900825",
     "status": "completed"
    },
    "tags": []
   },
   "source": [
    "## Text Preprocessing"
   ]
  },
  {
   "cell_type": "code",
   "execution_count": 20,
   "id": "57749240",
   "metadata": {
    "execution": {
     "iopub.execute_input": "2022-12-14T21:28:42.943599Z",
     "iopub.status.busy": "2022-12-14T21:28:42.942740Z",
     "iopub.status.idle": "2022-12-14T21:28:42.950229Z",
     "shell.execute_reply": "2022-12-14T21:28:42.949269Z"
    },
    "papermill": {
     "duration": 0.024089,
     "end_time": "2022-12-14T21:28:42.952167",
     "exception": false,
     "start_time": "2022-12-14T21:28:42.928078",
     "status": "completed"
    },
    "tags": []
   },
   "outputs": [],
   "source": [
    "def text_preprocess(data,col):\n",
    "    data[col] = data[col].apply(func=clean_html)\n",
    "    data[col] = data[col].apply(func=remove_)\n",
    "    data[col] = data[col].apply(func=removeStopWords)\n",
    "    data[col] = data[col].apply(func=remove_digits)\n",
    "    data[col] = data[col].apply(func=remove_links)\n",
    "    data[col] = data[col].apply(func=remove_special_characters)\n",
    "    data[col] = data[col].apply(func=punct)\n",
    "    data[col] = data[col].apply(func=non_ascii)\n",
    "    data[col] = data[col].apply(func=email_address)\n",
    "    data[col] = data[col].apply(func=lower)\n",
    "    return data"
   ]
  },
  {
   "cell_type": "code",
   "execution_count": 21,
   "id": "c0570d65",
   "metadata": {
    "execution": {
     "iopub.execute_input": "2022-12-14T21:28:42.980819Z",
     "iopub.status.busy": "2022-12-14T21:28:42.980517Z",
     "iopub.status.idle": "2022-12-14T21:28:43.804729Z",
     "shell.execute_reply": "2022-12-14T21:28:43.803655Z"
    },
    "papermill": {
     "duration": 0.841886,
     "end_time": "2022-12-14T21:28:43.807467",
     "exception": false,
     "start_time": "2022-12-14T21:28:42.965581",
     "status": "completed"
    },
    "tags": []
   },
   "outputs": [
    {
     "data": {
      "text/html": [
       "<div>\n",
       "<style scoped>\n",
       "    .dataframe tbody tr th:only-of-type {\n",
       "        vertical-align: middle;\n",
       "    }\n",
       "\n",
       "    .dataframe tbody tr th {\n",
       "        vertical-align: top;\n",
       "    }\n",
       "\n",
       "    .dataframe thead th {\n",
       "        text-align: right;\n",
       "    }\n",
       "</style>\n",
       "<table border=\"1\" class=\"dataframe\">\n",
       "  <thead>\n",
       "    <tr style=\"text-align: right;\">\n",
       "      <th></th>\n",
       "      <th>sms</th>\n",
       "      <th>label</th>\n",
       "      <th>num_words</th>\n",
       "    </tr>\n",
       "  </thead>\n",
       "  <tbody>\n",
       "    <tr>\n",
       "      <th>0</th>\n",
       "      <td>go jurong point crazy available bugis n great ...</td>\n",
       "      <td>0</td>\n",
       "      <td>112</td>\n",
       "    </tr>\n",
       "    <tr>\n",
       "      <th>1</th>\n",
       "      <td>ok lar joking wif u oni</td>\n",
       "      <td>0</td>\n",
       "      <td>30</td>\n",
       "    </tr>\n",
       "    <tr>\n",
       "      <th>2</th>\n",
       "      <td>free entry wkly comp win fa cup final tkts st ...</td>\n",
       "      <td>1</td>\n",
       "      <td>156</td>\n",
       "    </tr>\n",
       "    <tr>\n",
       "      <th>3</th>\n",
       "      <td>u dun say early hor u c already say</td>\n",
       "      <td>0</td>\n",
       "      <td>50</td>\n",
       "    </tr>\n",
       "    <tr>\n",
       "      <th>4</th>\n",
       "      <td>nah think goes usf lives around though</td>\n",
       "      <td>0</td>\n",
       "      <td>62</td>\n",
       "    </tr>\n",
       "  </tbody>\n",
       "</table>\n",
       "</div>"
      ],
      "text/plain": [
       "                                                 sms  label  num_words\n",
       "0  go jurong point crazy available bugis n great ...      0        112\n",
       "1                            ok lar joking wif u oni      0         30\n",
       "2  free entry wkly comp win fa cup final tkts st ...      1        156\n",
       "3                u dun say early hor u c already say      0         50\n",
       "4             nah think goes usf lives around though      0         62"
      ]
     },
     "execution_count": 21,
     "metadata": {},
     "output_type": "execute_result"
    }
   ],
   "source": [
    "preprocessed_df = text_preprocess(df,'sms')\n",
    "preprocessed_df.head()"
   ]
  },
  {
   "cell_type": "markdown",
   "id": "8fc97e04",
   "metadata": {
    "papermill": {
     "duration": 0.013624,
     "end_time": "2022-12-14T21:28:43.835323",
     "exception": false,
     "start_time": "2022-12-14T21:28:43.821699",
     "status": "completed"
    },
    "tags": []
   },
   "source": [
    "## Splitting the dataset into training and test sets"
   ]
  },
  {
   "cell_type": "code",
   "execution_count": 22,
   "id": "5430a429",
   "metadata": {
    "execution": {
     "iopub.execute_input": "2022-12-14T21:28:43.864280Z",
     "iopub.status.busy": "2022-12-14T21:28:43.863992Z",
     "iopub.status.idle": "2022-12-14T21:28:43.873877Z",
     "shell.execute_reply": "2022-12-14T21:28:43.872888Z"
    },
    "papermill": {
     "duration": 0.026925,
     "end_time": "2022-12-14T21:28:43.875932",
     "exception": false,
     "start_time": "2022-12-14T21:28:43.849007",
     "status": "completed"
    },
    "tags": []
   },
   "outputs": [],
   "source": [
    " train_df, test_df = train_test_split(preprocessed_df,test_size=0.3,random_state=42,shuffle=True,stratify=preprocessed_df.label)"
   ]
  },
  {
   "cell_type": "markdown",
   "id": "53a4ef6b",
   "metadata": {
    "papermill": {
     "duration": 0.013356,
     "end_time": "2022-12-14T21:28:43.903348",
     "exception": false,
     "start_time": "2022-12-14T21:28:43.889992",
     "status": "completed"
    },
    "tags": []
   },
   "source": [
    "## Loading the pretrained Tokenizer class and the pretrained ROBERTA-BASE transformer model"
   ]
  },
  {
   "cell_type": "code",
   "execution_count": 23,
   "id": "3d55bd7d",
   "metadata": {
    "execution": {
     "iopub.execute_input": "2022-12-14T21:28:43.931809Z",
     "iopub.status.busy": "2022-12-14T21:28:43.931549Z",
     "iopub.status.idle": "2022-12-14T21:29:14.085602Z",
     "shell.execute_reply": "2022-12-14T21:29:14.084586Z"
    },
    "papermill": {
     "duration": 30.180608,
     "end_time": "2022-12-14T21:29:14.097668",
     "exception": false,
     "start_time": "2022-12-14T21:28:43.917060",
     "status": "completed"
    },
    "tags": []
   },
   "outputs": [
    {
     "data": {
      "application/vnd.jupyter.widget-view+json": {
       "model_id": "b0a275da058c4a188fd423e81a44a3ec",
       "version_major": 2,
       "version_minor": 0
      },
      "text/plain": [
       "Downloading:   0%|          | 0.00/349 [00:00<?, ?B/s]"
      ]
     },
     "metadata": {},
     "output_type": "display_data"
    },
    {
     "data": {
      "application/vnd.jupyter.widget-view+json": {
       "model_id": "7382fe28ac8042d285a9e9f5f488fff1",
       "version_major": 2,
       "version_minor": 0
      },
      "text/plain": [
       "Downloading:   0%|          | 0.00/780k [00:00<?, ?B/s]"
      ]
     },
     "metadata": {},
     "output_type": "display_data"
    },
    {
     "data": {
      "application/vnd.jupyter.widget-view+json": {
       "model_id": "673eefca8d0f4e94b513e01b60815037",
       "version_major": 2,
       "version_minor": 0
      },
      "text/plain": [
       "Downloading:   0%|          | 0.00/446k [00:00<?, ?B/s]"
      ]
     },
     "metadata": {},
     "output_type": "display_data"
    },
    {
     "data": {
      "application/vnd.jupyter.widget-view+json": {
       "model_id": "46d26c5695fc4734a063abfeae21a7f9",
       "version_major": 2,
       "version_minor": 0
      },
      "text/plain": [
       "Downloading:   0%|          | 0.00/2.01M [00:00<?, ?B/s]"
      ]
     },
     "metadata": {},
     "output_type": "display_data"
    },
    {
     "data": {
      "application/vnd.jupyter.widget-view+json": {
       "model_id": "22140004abf842809c9d0b9d9699fa66",
       "version_major": 2,
       "version_minor": 0
      },
      "text/plain": [
       "Downloading:   0%|          | 0.00/239 [00:00<?, ?B/s]"
      ]
     },
     "metadata": {},
     "output_type": "display_data"
    },
    {
     "data": {
      "application/vnd.jupyter.widget-view+json": {
       "model_id": "983d4de6433b425993832061f7b6d354",
       "version_major": 2,
       "version_minor": 0
      },
      "text/plain": [
       "Downloading:   0%|          | 0.00/735 [00:00<?, ?B/s]"
      ]
     },
     "metadata": {},
     "output_type": "display_data"
    },
    {
     "name": "stderr",
     "output_type": "stream",
     "text": [
      "2022-12-14 21:28:50.580842: I tensorflow/stream_executor/cuda/cuda_gpu_executor.cc:937] successful NUMA node read from SysFS had negative value (-1), but there must be at least one NUMA node, so returning NUMA node zero\n",
      "2022-12-14 21:28:50.581769: I tensorflow/stream_executor/cuda/cuda_gpu_executor.cc:937] successful NUMA node read from SysFS had negative value (-1), but there must be at least one NUMA node, so returning NUMA node zero\n",
      "2022-12-14 21:28:50.582773: I tensorflow/stream_executor/cuda/cuda_gpu_executor.cc:937] successful NUMA node read from SysFS had negative value (-1), but there must be at least one NUMA node, so returning NUMA node zero\n",
      "2022-12-14 21:28:50.583539: I tensorflow/stream_executor/cuda/cuda_gpu_executor.cc:937] successful NUMA node read from SysFS had negative value (-1), but there must be at least one NUMA node, so returning NUMA node zero\n",
      "2022-12-14 21:28:50.584301: I tensorflow/stream_executor/cuda/cuda_gpu_executor.cc:937] successful NUMA node read from SysFS had negative value (-1), but there must be at least one NUMA node, so returning NUMA node zero\n",
      "2022-12-14 21:28:50.585025: I tensorflow/stream_executor/cuda/cuda_gpu_executor.cc:937] successful NUMA node read from SysFS had negative value (-1), but there must be at least one NUMA node, so returning NUMA node zero\n",
      "2022-12-14 21:28:50.587680: I tensorflow/core/platform/cpu_feature_guard.cc:142] This TensorFlow binary is optimized with oneAPI Deep Neural Network Library (oneDNN) to use the following CPU instructions in performance-critical operations:  AVX2 AVX512F FMA\n",
      "To enable them in other operations, rebuild TensorFlow with the appropriate compiler flags.\n",
      "2022-12-14 21:28:50.843311: I tensorflow/stream_executor/cuda/cuda_gpu_executor.cc:937] successful NUMA node read from SysFS had negative value (-1), but there must be at least one NUMA node, so returning NUMA node zero\n",
      "2022-12-14 21:28:50.844204: I tensorflow/stream_executor/cuda/cuda_gpu_executor.cc:937] successful NUMA node read from SysFS had negative value (-1), but there must be at least one NUMA node, so returning NUMA node zero\n",
      "2022-12-14 21:28:50.844928: I tensorflow/stream_executor/cuda/cuda_gpu_executor.cc:937] successful NUMA node read from SysFS had negative value (-1), but there must be at least one NUMA node, so returning NUMA node zero\n",
      "2022-12-14 21:28:50.845611: I tensorflow/stream_executor/cuda/cuda_gpu_executor.cc:937] successful NUMA node read from SysFS had negative value (-1), but there must be at least one NUMA node, so returning NUMA node zero\n",
      "2022-12-14 21:28:50.846313: I tensorflow/stream_executor/cuda/cuda_gpu_executor.cc:937] successful NUMA node read from SysFS had negative value (-1), but there must be at least one NUMA node, so returning NUMA node zero\n",
      "2022-12-14 21:28:50.846999: I tensorflow/stream_executor/cuda/cuda_gpu_executor.cc:937] successful NUMA node read from SysFS had negative value (-1), but there must be at least one NUMA node, so returning NUMA node zero\n",
      "2022-12-14 21:29:00.321879: I tensorflow/stream_executor/cuda/cuda_gpu_executor.cc:937] successful NUMA node read from SysFS had negative value (-1), but there must be at least one NUMA node, so returning NUMA node zero\n",
      "2022-12-14 21:29:00.322717: I tensorflow/stream_executor/cuda/cuda_gpu_executor.cc:937] successful NUMA node read from SysFS had negative value (-1), but there must be at least one NUMA node, so returning NUMA node zero\n",
      "2022-12-14 21:29:00.323858: I tensorflow/stream_executor/cuda/cuda_gpu_executor.cc:937] successful NUMA node read from SysFS had negative value (-1), but there must be at least one NUMA node, so returning NUMA node zero\n",
      "2022-12-14 21:29:00.324761: I tensorflow/stream_executor/cuda/cuda_gpu_executor.cc:937] successful NUMA node read from SysFS had negative value (-1), but there must be at least one NUMA node, so returning NUMA node zero\n",
      "2022-12-14 21:29:00.325482: I tensorflow/stream_executor/cuda/cuda_gpu_executor.cc:937] successful NUMA node read from SysFS had negative value (-1), but there must be at least one NUMA node, so returning NUMA node zero\n",
      "2022-12-14 21:29:00.326154: I tensorflow/core/common_runtime/gpu/gpu_device.cc:1510] Created device /job:localhost/replica:0/task:0/device:GPU:0 with 13351 MB memory:  -> device: 0, name: Tesla T4, pci bus id: 0000:00:04.0, compute capability: 7.5\n",
      "2022-12-14 21:29:00.330750: I tensorflow/stream_executor/cuda/cuda_gpu_executor.cc:937] successful NUMA node read from SysFS had negative value (-1), but there must be at least one NUMA node, so returning NUMA node zero\n",
      "2022-12-14 21:29:00.331429: I tensorflow/core/common_runtime/gpu/gpu_device.cc:1510] Created device /job:localhost/replica:0/task:0/device:GPU:1 with 13351 MB memory:  -> device: 1, name: Tesla T4, pci bus id: 0000:00:05.0, compute capability: 7.5\n"
     ]
    },
    {
     "data": {
      "application/vnd.jupyter.widget-view+json": {
       "model_id": "192a32f2d8084f6e889989e9fa17ce2a",
       "version_major": 2,
       "version_minor": 0
      },
      "text/plain": [
       "Downloading:   0%|          | 0.00/476M [00:00<?, ?B/s]"
      ]
     },
     "metadata": {},
     "output_type": "display_data"
    },
    {
     "name": "stderr",
     "output_type": "stream",
     "text": [
      "Some weights of the PyTorch model were not used when initializing the TF 2.0 model TFRobertaForSequenceClassification: ['roberta.embeddings.position_ids']\n",
      "- This IS expected if you are initializing TFRobertaForSequenceClassification from a PyTorch model trained on another task or with another architecture (e.g. initializing a TFBertForSequenceClassification model from a BertForPreTraining model).\n",
      "- This IS NOT expected if you are initializing TFRobertaForSequenceClassification from a PyTorch model that you expect to be exactly identical (e.g. initializing a TFBertForSequenceClassification model from a BertForSequenceClassification model).\n",
      "All the weights of TFRobertaForSequenceClassification were initialized from the PyTorch model.\n",
      "If your task is similar to the task the model of the checkpoint was trained on, you can already use TFRobertaForSequenceClassification for predictions without further training.\n"
     ]
    }
   ],
   "source": [
    "tokenizer = AutoTokenizer.from_pretrained(\"mariagrandury/roberta-base-finetuned-sms-spam-detection\")\n",
    "roberta = TFAutoModelForSequenceClassification.from_pretrained(\"mariagrandury/roberta-base-finetuned-sms-spam-detection\",from_pt=True)"
   ]
  },
  {
   "cell_type": "markdown",
   "id": "7240188c",
   "metadata": {
    "papermill": {
     "duration": 0.01475,
     "end_time": "2022-12-14T21:29:14.127429",
     "exception": false,
     "start_time": "2022-12-14T21:29:14.112679",
     "status": "completed"
    },
    "tags": []
   },
   "source": [
    "## Performing text tokenization"
   ]
  },
  {
   "cell_type": "code",
   "execution_count": 24,
   "id": "88e3f88f",
   "metadata": {
    "execution": {
     "iopub.execute_input": "2022-12-14T21:29:14.159362Z",
     "iopub.status.busy": "2022-12-14T21:29:14.158715Z",
     "iopub.status.idle": "2022-12-14T21:29:14.445901Z",
     "shell.execute_reply": "2022-12-14T21:29:14.444903Z"
    },
    "papermill": {
     "duration": 0.30646,
     "end_time": "2022-12-14T21:29:14.448646",
     "exception": false,
     "start_time": "2022-12-14T21:29:14.142186",
     "status": "completed"
    },
    "tags": []
   },
   "outputs": [],
   "source": [
    "X_train = tokenizer(text=train_df.sms.tolist(),\n",
    "                   max_length=max_len,\n",
    "                   padding=True,\n",
    "                   truncation=True,\n",
    "                   add_special_tokens=True,\n",
    "                   return_tensors=\"tf\",\n",
    "                   return_attention_mask=True,\n",
    "                   return_token_type_ids=False,\n",
    "                   verbose=True)\n",
    "X_test = tokenizer(text=test_df.sms.tolist(),\n",
    "                  max_length=max_len,\n",
    "                  padding=True,\n",
    "                  truncation=True,\n",
    "                  add_special_tokens=True,\n",
    "                  return_tensors=\"tf\",\n",
    "                  return_attention_mask=True,\n",
    "                  return_token_type_ids=False,\n",
    "                  verbose=True)"
   ]
  },
  {
   "cell_type": "markdown",
   "id": "925c2f07",
   "metadata": {
    "papermill": {
     "duration": 0.01535,
     "end_time": "2022-12-14T21:29:14.479482",
     "exception": false,
     "start_time": "2022-12-14T21:29:14.464132",
     "status": "completed"
    },
    "tags": []
   },
   "source": [
    "## Fine-tuning the ROBERTA transformer model architecture"
   ]
  },
  {
   "cell_type": "code",
   "execution_count": 25,
   "id": "63701463",
   "metadata": {
    "execution": {
     "iopub.execute_input": "2022-12-14T21:29:14.510737Z",
     "iopub.status.busy": "2022-12-14T21:29:14.510416Z",
     "iopub.status.idle": "2022-12-14T21:29:14.519110Z",
     "shell.execute_reply": "2022-12-14T21:29:14.518267Z"
    },
    "papermill": {
     "duration": 0.026656,
     "end_time": "2022-12-14T21:29:14.521086",
     "exception": false,
     "start_time": "2022-12-14T21:29:14.494430",
     "status": "completed"
    },
    "tags": []
   },
   "outputs": [],
   "source": [
    "input_ids = Input(shape=(max_len,),dtype=tf.int32,name='input_ids')\n",
    "attention_mask = Input(shape=(max_len,),dtype=tf.int32,name='attention_mask')"
   ]
  },
  {
   "cell_type": "code",
   "execution_count": 26,
   "id": "ee1feae3",
   "metadata": {
    "execution": {
     "iopub.execute_input": "2022-12-14T21:29:14.552778Z",
     "iopub.status.busy": "2022-12-14T21:29:14.552022Z",
     "iopub.status.idle": "2022-12-14T21:29:23.160803Z",
     "shell.execute_reply": "2022-12-14T21:29:23.159847Z"
    },
    "papermill": {
     "duration": 8.627103,
     "end_time": "2022-12-14T21:29:23.163228",
     "exception": false,
     "start_time": "2022-12-14T21:29:14.536125",
     "status": "completed"
    },
    "tags": []
   },
   "outputs": [],
   "source": [
    "embeddings = roberta(input_ids,attention_mask=attention_mask)[0] # 0 --> final hidden state, 1 --> pooling output\n",
    "output = Flatten()(embeddings)\n",
    "output = Dense(units=1024,activation='relu')(output)\n",
    "output = Dropout(0.3)(output)\n",
    "output = Dense(units=512,activation='relu')(output)\n",
    "output = Dropout(0.2)(output)\n",
    "output = Dense(units=256,activation='relu')(output)\n",
    "output = Dropout(0.1)(output)\n",
    "output = Dense(units=128,activation='relu')(output)\n",
    "output = Dense(units=2,activation='sigmoid')(output)\n",
    "\n",
    "model = Model(inputs=[input_ids,attention_mask],outputs=output)\n",
    "model.layers[2].trainable = True"
   ]
  },
  {
   "cell_type": "markdown",
   "id": "c047adfa",
   "metadata": {
    "papermill": {
     "duration": 0.014622,
     "end_time": "2022-12-14T21:29:23.193842",
     "exception": false,
     "start_time": "2022-12-14T21:29:23.179220",
     "status": "completed"
    },
    "tags": []
   },
   "source": [
    "## Visualizing the model architecture"
   ]
  },
  {
   "cell_type": "code",
   "execution_count": 27,
   "id": "8f59b166",
   "metadata": {
    "execution": {
     "iopub.execute_input": "2022-12-14T21:29:23.225466Z",
     "iopub.status.busy": "2022-12-14T21:29:23.224339Z",
     "iopub.status.idle": "2022-12-14T21:29:23.241689Z",
     "shell.execute_reply": "2022-12-14T21:29:23.240279Z"
    },
    "papermill": {
     "duration": 0.035096,
     "end_time": "2022-12-14T21:29:23.243609",
     "exception": false,
     "start_time": "2022-12-14T21:29:23.208513",
     "status": "completed"
    },
    "tags": []
   },
   "outputs": [
    {
     "name": "stdout",
     "output_type": "stream",
     "text": [
      "Model: \"model\"\n",
      "__________________________________________________________________________________________________\n",
      "Layer (type)                    Output Shape         Param #     Connected to                     \n",
      "==================================================================================================\n",
      "input_ids (InputLayer)          [(None, 80)]         0                                            \n",
      "__________________________________________________________________________________________________\n",
      "attention_mask (InputLayer)     [(None, 80)]         0                                            \n",
      "__________________________________________________________________________________________________\n",
      "tf_roberta_for_sequence_classif TFSequenceClassifier 124647170   input_ids[0][0]                  \n",
      "                                                                 attention_mask[0][0]             \n",
      "__________________________________________________________________________________________________\n",
      "flatten (Flatten)               (None, 2)            0           tf_roberta_for_sequence_classific\n",
      "__________________________________________________________________________________________________\n",
      "dense (Dense)                   (None, 1024)         3072        flatten[0][0]                    \n",
      "__________________________________________________________________________________________________\n",
      "dropout_38 (Dropout)            (None, 1024)         0           dense[0][0]                      \n",
      "__________________________________________________________________________________________________\n",
      "dense_1 (Dense)                 (None, 512)          524800      dropout_38[0][0]                 \n",
      "__________________________________________________________________________________________________\n",
      "dropout_39 (Dropout)            (None, 512)          0           dense_1[0][0]                    \n",
      "__________________________________________________________________________________________________\n",
      "dense_2 (Dense)                 (None, 256)          131328      dropout_39[0][0]                 \n",
      "__________________________________________________________________________________________________\n",
      "dropout_40 (Dropout)            (None, 256)          0           dense_2[0][0]                    \n",
      "__________________________________________________________________________________________________\n",
      "dense_3 (Dense)                 (None, 128)          32896       dropout_40[0][0]                 \n",
      "__________________________________________________________________________________________________\n",
      "dense_4 (Dense)                 (None, 2)            258         dense_3[0][0]                    \n",
      "==================================================================================================\n",
      "Total params: 125,339,524\n",
      "Trainable params: 125,339,524\n",
      "Non-trainable params: 0\n",
      "__________________________________________________________________________________________________\n"
     ]
    }
   ],
   "source": [
    "model.summary()"
   ]
  },
  {
   "cell_type": "code",
   "execution_count": 28,
   "id": "ea1eae17",
   "metadata": {
    "execution": {
     "iopub.execute_input": "2022-12-14T21:29:23.274456Z",
     "iopub.status.busy": "2022-12-14T21:29:23.273580Z",
     "iopub.status.idle": "2022-12-14T21:29:25.430740Z",
     "shell.execute_reply": "2022-12-14T21:29:25.429624Z"
    },
    "papermill": {
     "duration": 2.175727,
     "end_time": "2022-12-14T21:29:25.433810",
     "exception": false,
     "start_time": "2022-12-14T21:29:23.258083",
     "status": "completed"
    },
    "tags": []
   },
   "outputs": [
    {
     "name": "stdout",
     "output_type": "stream",
     "text": [
      "huggingface/tokenizers: The current process just got forked, after parallelism has already been used. Disabling parallelism to avoid deadlocks...\n",
      "To disable this warning, you can either:\n",
      "\t- Avoid using `tokenizers` before the fork if possible\n",
      "\t- Explicitly set the environment variable TOKENIZERS_PARALLELISM=(true | false)\n",
      "huggingface/tokenizers: The current process just got forked, after parallelism has already been used. Disabling parallelism to avoid deadlocks...\n",
      "To disable this warning, you can either:\n",
      "\t- Avoid using `tokenizers` before the fork if possible\n",
      "\t- Explicitly set the environment variable TOKENIZERS_PARALLELISM=(true | false)\n"
     ]
    },
    {
     "data": {
      "image/png": "[encoded data removed]",
      "text/plain": [
       "<IPython.core.display.Image object>"
      ]
     },
     "execution_count": 28,
     "metadata": {},
     "output_type": "execute_result"
    }
   ],
   "source": [
    "plot_model(model,'ROBERTA-BASE-FINETUNED-SMS-SPAM-DETECTION.png',dpi=100,show_shapes=True)"
   ]
  },
  {
   "cell_type": "markdown",
   "id": "21a1de44",
   "metadata": {
    "papermill": {
     "duration": 0.016008,
     "end_time": "2022-12-14T21:29:25.466697",
     "exception": false,
     "start_time": "2022-12-14T21:29:25.450689",
     "status": "completed"
    },
    "tags": []
   },
   "source": [
    "## Compiling the model"
   ]
  },
  {
   "cell_type": "code",
   "execution_count": 29,
   "id": "9c498168",
   "metadata": {
    "execution": {
     "iopub.execute_input": "2022-12-14T21:29:25.501274Z",
     "iopub.status.busy": "2022-12-14T21:29:25.500437Z",
     "iopub.status.idle": "2022-12-14T21:29:25.524899Z",
     "shell.execute_reply": "2022-12-14T21:29:25.524020Z"
    },
    "papermill": {
     "duration": 0.043933,
     "end_time": "2022-12-14T21:29:25.526963",
     "exception": false,
     "start_time": "2022-12-14T21:29:25.483030",
     "status": "completed"
    },
    "tags": []
   },
   "outputs": [],
   "source": [
    "optimizer = Adam(learning_rate=5e-5,epsilon=2e-8,decay=0.01,clipnorm=1.0)\n",
    "loss = BinaryCrossentropy(from_logits=True)\n",
    "metrics = BinaryAccuracy('balanced_accuracy')\n",
    "model.compile(loss=loss,optimizer=optimizer,metrics=metrics)"
   ]
  },
  {
   "cell_type": "markdown",
   "id": "d0e9cd00",
   "metadata": {
    "papermill": {
     "duration": 0.016245,
     "end_time": "2022-12-14T21:29:25.559502",
     "exception": false,
     "start_time": "2022-12-14T21:29:25.543257",
     "status": "completed"
    },
    "tags": []
   },
   "source": [
    "## Training the fine-tuned ROBERTA transformer model"
   ]
  },
  {
   "cell_type": "code",
   "execution_count": 30,
   "id": "fffe7e62",
   "metadata": {
    "execution": {
     "iopub.execute_input": "2022-12-14T21:29:25.594480Z",
     "iopub.status.busy": "2022-12-14T21:29:25.593553Z",
     "iopub.status.idle": "2022-12-14T22:34:07.413101Z",
     "shell.execute_reply": "2022-12-14T22:34:07.405712Z"
    },
    "papermill": {
     "duration": 3881.84005,
     "end_time": "2022-12-14T22:34:07.415897",
     "exception": false,
     "start_time": "2022-12-14T21:29:25.575847",
     "status": "completed"
    },
    "tags": []
   },
   "outputs": [
    {
     "name": "stderr",
     "output_type": "stream",
     "text": [
      "2022-12-14 21:29:25.686808: I tensorflow/compiler/mlir/mlir_graph_optimization_pass.cc:185] None of the MLIR Optimization Passes are enabled (registered 2)\n"
     ]
    },
    {
     "name": "stdout",
     "output_type": "stream",
     "text": [
      "Epoch 1/50\n",
      "114/114 [==============================] - 84s 563ms/step - loss: 0.2421 - balanced_accuracy: 0.9254 - val_loss: 0.0896 - val_balanced_accuracy: 0.9813\n",
      "\n",
      "Epoch 00001: val_balanced_accuracy improved from -inf to 0.98131, saving model to checkpoint\n"
     ]
    },
    {
     "name": "stderr",
     "output_type": "stream",
     "text": [
      "2022-12-14 21:31:04.031027: W tensorflow/python/util/util.cc:348] Sets are not currently considered sequences, but this may change in the future, so consider avoiding using them.\n"
     ]
    },
    {
     "name": "stdout",
     "output_type": "stream",
     "text": [
      "Epoch 2/50\n",
      "114/114 [==============================] - 65s 571ms/step - loss: 0.0989 - balanced_accuracy: 0.9787 - val_loss: 0.0755 - val_balanced_accuracy: 0.9787\n",
      "\n",
      "Epoch 00002: val_balanced_accuracy did not improve from 0.98131\n",
      "Epoch 3/50\n",
      "114/114 [==============================] - 65s 572ms/step - loss: 0.0532 - balanced_accuracy: 0.9878 - val_loss: 0.0456 - val_balanced_accuracy: 0.9858\n",
      "\n",
      "Epoch 00003: val_balanced_accuracy improved from 0.98131 to 0.98582, saving model to checkpoint\n",
      "Epoch 4/50\n",
      "114/114 [==============================] - 66s 576ms/step - loss: 0.0392 - balanced_accuracy: 0.9914 - val_loss: 0.0332 - val_balanced_accuracy: 0.9897\n",
      "\n",
      "Epoch 00004: val_balanced_accuracy improved from 0.98582 to 0.98969, saving model to checkpoint\n",
      "Epoch 5/50\n",
      "114/114 [==============================] - 66s 575ms/step - loss: 0.0248 - balanced_accuracy: 0.9947 - val_loss: 0.0399 - val_balanced_accuracy: 0.9890\n",
      "\n",
      "Epoch 00005: val_balanced_accuracy did not improve from 0.98969\n",
      "Epoch 6/50\n",
      "114/114 [==============================] - 65s 573ms/step - loss: 0.0231 - balanced_accuracy: 0.9956 - val_loss: 0.0472 - val_balanced_accuracy: 0.9903\n",
      "\n",
      "Epoch 00006: val_balanced_accuracy improved from 0.98969 to 0.99034, saving model to checkpoint\n",
      "Epoch 7/50\n",
      "114/114 [==============================] - 66s 576ms/step - loss: 0.0218 - balanced_accuracy: 0.9970 - val_loss: 0.0421 - val_balanced_accuracy: 0.9897\n",
      "\n",
      "Epoch 00007: val_balanced_accuracy did not improve from 0.99034\n",
      "Epoch 8/50\n",
      "114/114 [==============================] - 65s 574ms/step - loss: 0.0170 - balanced_accuracy: 0.9978 - val_loss: 0.0440 - val_balanced_accuracy: 0.9897\n",
      "\n",
      "Epoch 00008: val_balanced_accuracy did not improve from 0.99034\n",
      "Epoch 9/50\n",
      "114/114 [==============================] - 65s 574ms/step - loss: 0.0192 - balanced_accuracy: 0.9970 - val_loss: 0.0436 - val_balanced_accuracy: 0.9897\n",
      "\n",
      "Epoch 00009: val_balanced_accuracy did not improve from 0.99034\n",
      "Epoch 10/50\n",
      "114/114 [==============================] - 65s 574ms/step - loss: 0.0187 - balanced_accuracy: 0.9970 - val_loss: 0.0362 - val_balanced_accuracy: 0.9903\n",
      "\n",
      "Epoch 00010: val_balanced_accuracy did not improve from 0.99034\n",
      "Epoch 11/50\n",
      "114/114 [==============================] - 65s 574ms/step - loss: 0.0171 - balanced_accuracy: 0.9978 - val_loss: 0.0393 - val_balanced_accuracy: 0.9903\n",
      "\n",
      "Epoch 00011: val_balanced_accuracy did not improve from 0.99034\n",
      "Epoch 12/50\n",
      "114/114 [==============================] - 65s 574ms/step - loss: 0.0162 - balanced_accuracy: 0.9978 - val_loss: 0.0411 - val_balanced_accuracy: 0.9910\n",
      "\n",
      "Epoch 00012: val_balanced_accuracy improved from 0.99034 to 0.99098, saving model to checkpoint\n",
      "Epoch 13/50\n",
      "114/114 [==============================] - 66s 576ms/step - loss: 0.0167 - balanced_accuracy: 0.9975 - val_loss: 0.0401 - val_balanced_accuracy: 0.9910\n",
      "\n",
      "Epoch 00013: val_balanced_accuracy did not improve from 0.99098\n",
      "Epoch 14/50\n",
      "114/114 [==============================] - 65s 573ms/step - loss: 0.0178 - balanced_accuracy: 0.9972 - val_loss: 0.0389 - val_balanced_accuracy: 0.9910\n",
      "\n",
      "Epoch 00014: val_balanced_accuracy did not improve from 0.99098\n",
      "Epoch 15/50\n",
      "114/114 [==============================] - 65s 573ms/step - loss: 0.0148 - balanced_accuracy: 0.9978 - val_loss: 0.0367 - val_balanced_accuracy: 0.9916\n",
      "\n",
      "Epoch 00015: val_balanced_accuracy improved from 0.99098 to 0.99162, saving model to checkpoint\n",
      "Epoch 16/50\n",
      "114/114 [==============================] - 66s 577ms/step - loss: 0.0159 - balanced_accuracy: 0.9978 - val_loss: 0.0414 - val_balanced_accuracy: 0.9910\n",
      "\n",
      "Epoch 00016: val_balanced_accuracy did not improve from 0.99162\n",
      "Epoch 17/50\n",
      "114/114 [==============================] - 65s 573ms/step - loss: 0.0161 - balanced_accuracy: 0.9978 - val_loss: 0.0370 - val_balanced_accuracy: 0.9910\n",
      "\n",
      "Epoch 00017: val_balanced_accuracy did not improve from 0.99162\n",
      "Epoch 18/50\n",
      "114/114 [==============================] - 65s 573ms/step - loss: 0.0158 - balanced_accuracy: 0.9975 - val_loss: 0.0394 - val_balanced_accuracy: 0.9910\n",
      "\n",
      "Epoch 00018: val_balanced_accuracy did not improve from 0.99162\n",
      "Epoch 19/50\n",
      "114/114 [==============================] - 65s 574ms/step - loss: 0.0122 - balanced_accuracy: 0.9978 - val_loss: 0.0371 - val_balanced_accuracy: 0.9910\n",
      "\n",
      "Epoch 00019: val_balanced_accuracy did not improve from 0.99162\n",
      "Epoch 20/50\n",
      "114/114 [==============================] - 65s 573ms/step - loss: 0.0111 - balanced_accuracy: 0.9983 - val_loss: 0.0396 - val_balanced_accuracy: 0.9910\n",
      "\n",
      "Epoch 00020: val_balanced_accuracy did not improve from 0.99162\n",
      "Epoch 21/50\n",
      "114/114 [==============================] - 65s 573ms/step - loss: 0.0109 - balanced_accuracy: 0.9986 - val_loss: 0.0399 - val_balanced_accuracy: 0.9910\n",
      "\n",
      "Epoch 00021: val_balanced_accuracy did not improve from 0.99162\n",
      "Epoch 22/50\n",
      "114/114 [==============================] - 65s 575ms/step - loss: 0.0108 - balanced_accuracy: 0.9986 - val_loss: 0.0390 - val_balanced_accuracy: 0.9923\n",
      "\n",
      "Epoch 00022: val_balanced_accuracy improved from 0.99162 to 0.99227, saving model to checkpoint\n",
      "Epoch 23/50\n",
      "114/114 [==============================] - 66s 576ms/step - loss: 0.0105 - balanced_accuracy: 0.9986 - val_loss: 0.0378 - val_balanced_accuracy: 0.9923\n",
      "\n",
      "Epoch 00023: val_balanced_accuracy did not improve from 0.99227\n",
      "Epoch 24/50\n",
      "114/114 [==============================] - 65s 573ms/step - loss: 0.0094 - balanced_accuracy: 0.9986 - val_loss: 0.0366 - val_balanced_accuracy: 0.9923\n",
      "\n",
      "Epoch 00024: val_balanced_accuracy did not improve from 0.99227\n",
      "Epoch 25/50\n",
      "114/114 [==============================] - 65s 573ms/step - loss: 0.0069 - balanced_accuracy: 0.9989 - val_loss: 0.0377 - val_balanced_accuracy: 0.9923\n",
      "\n",
      "Epoch 00025: val_balanced_accuracy did not improve from 0.99227\n",
      "Epoch 26/50\n",
      "114/114 [==============================] - 65s 573ms/step - loss: 0.0059 - balanced_accuracy: 0.9994 - val_loss: 0.0398 - val_balanced_accuracy: 0.9923\n",
      "\n",
      "Epoch 00026: val_balanced_accuracy did not improve from 0.99227\n",
      "Epoch 27/50\n",
      "114/114 [==============================] - 65s 574ms/step - loss: 0.0076 - balanced_accuracy: 0.9992 - val_loss: 0.0426 - val_balanced_accuracy: 0.9923\n",
      "\n",
      "Epoch 00027: val_balanced_accuracy did not improve from 0.99227\n",
      "Epoch 28/50\n",
      "114/114 [==============================] - 65s 575ms/step - loss: 0.0053 - balanced_accuracy: 0.9994 - val_loss: 0.0405 - val_balanced_accuracy: 0.9929\n",
      "\n",
      "Epoch 00028: val_balanced_accuracy improved from 0.99227 to 0.99291, saving model to checkpoint\n",
      "Epoch 29/50\n",
      "114/114 [==============================] - 66s 576ms/step - loss: 0.0052 - balanced_accuracy: 0.9994 - val_loss: 0.0417 - val_balanced_accuracy: 0.9923\n",
      "\n",
      "Epoch 00029: val_balanced_accuracy did not improve from 0.99291\n",
      "Epoch 30/50\n",
      "114/114 [==============================] - 65s 574ms/step - loss: 0.0052 - balanced_accuracy: 0.9994 - val_loss: 0.0419 - val_balanced_accuracy: 0.9929\n",
      "\n",
      "Epoch 00030: val_balanced_accuracy did not improve from 0.99291\n",
      "Epoch 31/50\n",
      "114/114 [==============================] - 65s 573ms/step - loss: 0.0050 - balanced_accuracy: 0.9994 - val_loss: 0.0426 - val_balanced_accuracy: 0.9923\n",
      "\n",
      "Epoch 00031: val_balanced_accuracy did not improve from 0.99291\n",
      "Epoch 32/50\n",
      "114/114 [==============================] - 65s 575ms/step - loss: 0.0046 - balanced_accuracy: 0.9994 - val_loss: 0.0433 - val_balanced_accuracy: 0.9923\n",
      "\n",
      "Epoch 00032: val_balanced_accuracy did not improve from 0.99291\n",
      "Epoch 33/50\n",
      "114/114 [==============================] - 65s 574ms/step - loss: 0.0054 - balanced_accuracy: 0.9994 - val_loss: 0.0436 - val_balanced_accuracy: 0.9929\n",
      "\n",
      "Epoch 00033: val_balanced_accuracy did not improve from 0.99291\n",
      "Epoch 34/50\n",
      "114/114 [==============================] - 65s 573ms/step - loss: 0.0048 - balanced_accuracy: 0.9994 - val_loss: 0.0430 - val_balanced_accuracy: 0.9929\n",
      "\n",
      "Epoch 00034: val_balanced_accuracy did not improve from 0.99291\n",
      "Epoch 35/50\n",
      "114/114 [==============================] - 65s 573ms/step - loss: 0.0054 - balanced_accuracy: 0.9994 - val_loss: 0.0434 - val_balanced_accuracy: 0.9929\n",
      "\n",
      "Epoch 00035: val_balanced_accuracy did not improve from 0.99291\n",
      "Epoch 36/50\n",
      "114/114 [==============================] - 65s 573ms/step - loss: 0.0043 - balanced_accuracy: 0.9994 - val_loss: 0.0440 - val_balanced_accuracy: 0.9923\n",
      "\n",
      "Epoch 00036: val_balanced_accuracy did not improve from 0.99291\n",
      "Epoch 37/50\n",
      "114/114 [==============================] - 65s 574ms/step - loss: 0.0044 - balanced_accuracy: 0.9994 - val_loss: 0.0447 - val_balanced_accuracy: 0.9923\n",
      "\n",
      "Epoch 00037: val_balanced_accuracy did not improve from 0.99291\n",
      "Epoch 38/50\n",
      "114/114 [==============================] - 65s 574ms/step - loss: 0.0045 - balanced_accuracy: 0.9994 - val_loss: 0.0454 - val_balanced_accuracy: 0.9923\n",
      "\n",
      "Epoch 00038: val_balanced_accuracy did not improve from 0.99291\n",
      "Epoch 39/50\n",
      "114/114 [==============================] - 65s 575ms/step - loss: 0.0043 - balanced_accuracy: 0.9989 - val_loss: 0.0483 - val_balanced_accuracy: 0.9910\n",
      "\n",
      "Epoch 00039: val_balanced_accuracy did not improve from 0.99291\n",
      "Epoch 40/50\n",
      "114/114 [==============================] - 65s 575ms/step - loss: 0.0039 - balanced_accuracy: 0.9992 - val_loss: 0.0379 - val_balanced_accuracy: 0.9936\n",
      "\n",
      "Epoch 00040: val_balanced_accuracy improved from 0.99291 to 0.99356, saving model to checkpoint\n",
      "Epoch 41/50\n",
      "114/114 [==============================] - 66s 576ms/step - loss: 0.0031 - balanced_accuracy: 0.9997 - val_loss: 0.0382 - val_balanced_accuracy: 0.9936\n",
      "\n",
      "Epoch 00041: val_balanced_accuracy did not improve from 0.99356\n",
      "Epoch 42/50\n",
      "114/114 [==============================] - 65s 573ms/step - loss: 0.0026 - balanced_accuracy: 0.9997 - val_loss: 0.0395 - val_balanced_accuracy: 0.9923\n",
      "\n",
      "Epoch 00042: val_balanced_accuracy did not improve from 0.99356\n",
      "Epoch 43/50\n",
      "114/114 [==============================] - 65s 574ms/step - loss: 0.0017 - balanced_accuracy: 0.9997 - val_loss: 0.0377 - val_balanced_accuracy: 0.9948\n",
      "\n",
      "Epoch 00043: val_balanced_accuracy improved from 0.99356 to 0.99485, saving model to checkpoint\n",
      "Epoch 44/50\n",
      "114/114 [==============================] - 66s 576ms/step - loss: 9.3197e-04 - balanced_accuracy: 1.0000 - val_loss: 0.0395 - val_balanced_accuracy: 0.9929\n",
      "\n",
      "Epoch 00044: val_balanced_accuracy did not improve from 0.99485\n",
      "Epoch 45/50\n",
      "114/114 [==============================] - 65s 573ms/step - loss: 0.0017 - balanced_accuracy: 0.9997 - val_loss: 0.0415 - val_balanced_accuracy: 0.9923\n",
      "\n",
      "Epoch 00045: val_balanced_accuracy did not improve from 0.99485\n",
      "Epoch 46/50\n",
      "114/114 [==============================] - 65s 573ms/step - loss: 0.0011 - balanced_accuracy: 1.0000 - val_loss: 0.0438 - val_balanced_accuracy: 0.9923\n",
      "\n",
      "Epoch 00046: val_balanced_accuracy did not improve from 0.99485\n",
      "Epoch 47/50\n",
      "114/114 [==============================] - 66s 575ms/step - loss: 5.8266e-04 - balanced_accuracy: 1.0000 - val_loss: 0.0482 - val_balanced_accuracy: 0.9923\n",
      "\n",
      "Epoch 00047: val_balanced_accuracy did not improve from 0.99485\n",
      "Epoch 48/50\n",
      "114/114 [==============================] - 65s 575ms/step - loss: 5.4392e-04 - balanced_accuracy: 1.0000 - val_loss: 0.0459 - val_balanced_accuracy: 0.9923\n",
      "\n",
      "Epoch 00048: val_balanced_accuracy did not improve from 0.99485\n",
      "Epoch 49/50\n",
      "114/114 [==============================] - 65s 574ms/step - loss: 0.0020 - balanced_accuracy: 0.9994 - val_loss: 0.0446 - val_balanced_accuracy: 0.9923\n",
      "\n",
      "Epoch 00049: val_balanced_accuracy did not improve from 0.99485\n",
      "Epoch 50/50\n",
      "114/114 [==============================] - 65s 575ms/step - loss: 6.4762e-04 - balanced_accuracy: 1.0000 - val_loss: 0.0487 - val_balanced_accuracy: 0.9923\n",
      "\n",
      "Epoch 00050: val_balanced_accuracy did not improve from 0.99485\n"
     ]
    }
   ],
   "source": [
    "es = EarlyStopping(monitor='val_balanced_accuracy',patience=20,verbose=1,mode='max')\n",
    "mc = ModelCheckpoint(filepath='checkpoint',monitor='val_balanced_accuracy',mode='max',save_best_only=True,verbose=1)\n",
    "\n",
    "r = model.fit(x={'input_ids': X_train['input_ids'], 'attention_mask': X_train['attention_mask']},\n",
    "              y=to_categorical(train_df.label),\n",
    "              epochs=50,\n",
    "              batch_size=32,\n",
    "              callbacks=[es,mc],\n",
    "              validation_data=({'input_ids': X_test['input_ids'], 'attention_mask': X_test['attention_mask']},to_categorical(test_df.label))\n",
    "             )"
   ]
  },
  {
   "cell_type": "markdown",
   "id": "b6543ada",
   "metadata": {
    "papermill": {
     "duration": 0.368986,
     "end_time": "2022-12-14T22:34:08.097059",
     "exception": false,
     "start_time": "2022-12-14T22:34:07.728073",
     "status": "completed"
    },
    "tags": []
   },
   "source": [
    "## Analyzing the overall performance of the fine-tuned ROBERTA transformer model"
   ]
  },
  {
   "cell_type": "code",
   "execution_count": 31,
   "id": "860b9e44",
   "metadata": {
    "execution": {
     "iopub.execute_input": "2022-12-14T22:34:08.742272Z",
     "iopub.status.busy": "2022-12-14T22:34:08.739991Z",
     "iopub.status.idle": "2022-12-14T22:34:09.102598Z",
     "shell.execute_reply": "2022-12-14T22:34:09.101527Z"
    },
    "papermill": {
     "duration": 0.689469,
     "end_time": "2022-12-14T22:34:09.106437",
     "exception": false,
     "start_time": "2022-12-14T22:34:08.416968",
     "status": "completed"
    },
    "tags": []
   },
   "outputs": [
    {
     "data": {
      "image/png": "[encoded data removed]",
      "text/plain": [
       "<Figure size 864x576 with 1 Axes>"
      ]
     },
     "metadata": {
      "needs_background": "light"
     },
     "output_type": "display_data"
    }
   ],
   "source": [
    "plt.plot(r.history['loss'],'r',label='train loss')\n",
    "plt.plot(r.history['val_loss'],'b',label='test loss')\n",
    "plt.xlabel('No. of Epochs')\n",
    "plt.ylabel('Loss')\n",
    "plt.title('Loss Graph')\n",
    "plt.legend();"
   ]
  },
  {
   "cell_type": "code",
   "execution_count": 32,
   "id": "707914a5",
   "metadata": {
    "execution": {
     "iopub.execute_input": "2022-12-14T22:34:09.896694Z",
     "iopub.status.busy": "2022-12-14T22:34:09.896322Z",
     "iopub.status.idle": "2022-12-14T22:34:10.165854Z",
     "shell.execute_reply": "2022-12-14T22:34:10.164789Z"
    },
    "papermill": {
     "duration": 0.591488,
     "end_time": "2022-12-14T22:34:10.168064",
     "exception": false,
     "start_time": "2022-12-14T22:34:09.576576",
     "status": "completed"
    },
    "tags": []
   },
   "outputs": [
    {
     "data": {
      "image/png": "[encoded data removed]",
      "text/plain": [
       "<Figure size 864x576 with 1 Axes>"
      ]
     },
     "metadata": {
      "needs_background": "light"
     },
     "output_type": "display_data"
    }
   ],
   "source": [
    "plt.plot(r.history['balanced_accuracy'],'r',label='train accuracy')\n",
    "plt.plot(r.history['val_balanced_accuracy'],'b',label='test accuracy')\n",
    "plt.xlabel('No. of Epochs')\n",
    "plt.ylabel('Balanced Accuracy')\n",
    "plt.title('Balanced Accuracy Graph')\n",
    "plt.legend();"
   ]
  },
  {
   "cell_type": "markdown",
   "id": "98e8ba7e",
   "metadata": {
    "papermill": {
     "duration": 0.357182,
     "end_time": "2022-12-14T22:34:10.841381",
     "exception": false,
     "start_time": "2022-12-14T22:34:10.484199",
     "status": "completed"
    },
    "tags": []
   },
   "source": [
    "## Saving the model"
   ]
  },
  {
   "cell_type": "code",
   "execution_count": 33,
   "id": "edfc958c",
   "metadata": {
    "execution": {
     "iopub.execute_input": "2022-12-14T22:34:11.457048Z",
     "iopub.status.busy": "2022-12-14T22:34:11.456646Z",
     "iopub.status.idle": "2022-12-14T22:34:15.061660Z",
     "shell.execute_reply": "2022-12-14T22:34:15.060618Z"
    },
    "papermill": {
     "duration": 3.918572,
     "end_time": "2022-12-14T22:34:15.064392",
     "exception": false,
     "start_time": "2022-12-14T22:34:11.145820",
     "status": "completed"
    },
    "tags": []
   },
   "outputs": [],
   "source": [
    "model.save('sms_spam_detector.h5')"
   ]
  },
  {
   "cell_type": "markdown",
   "id": "c8961718",
   "metadata": {
    "papermill": {
     "duration": 0.38151,
     "end_time": "2022-12-14T22:34:15.780442",
     "exception": false,
     "start_time": "2022-12-14T22:34:15.398932",
     "status": "completed"
    },
    "tags": []
   },
   "source": [
    "## Model Evaluation"
   ]
  },
  {
   "cell_type": "code",
   "execution_count": 34,
   "id": "a5f5faee",
   "metadata": {
    "execution": {
     "iopub.execute_input": "2022-12-14T22:34:16.474815Z",
     "iopub.status.busy": "2022-12-14T22:34:16.474458Z",
     "iopub.status.idle": "2022-12-14T22:34:26.759015Z",
     "shell.execute_reply": "2022-12-14T22:34:26.757640Z"
    },
    "papermill": {
     "duration": 10.621371,
     "end_time": "2022-12-14T22:34:26.761113",
     "exception": false,
     "start_time": "2022-12-14T22:34:16.139742",
     "status": "completed"
    },
    "tags": []
   },
   "outputs": [
    {
     "name": "stdout",
     "output_type": "stream",
     "text": [
      "49/49 [==============================] - 8s 165ms/step - loss: 0.0487 - balanced_accuracy: 0.9923\n",
      "Test Binary Crossentropy Loss: 0.04869041591882706\n",
      "Test Binary Accuracy: 0.9922680258750916\n"
     ]
    }
   ],
   "source": [
    "loss, acc = model.evaluate({'input_ids': X_test['input_ids'], 'attention_mask': X_test['attention_mask']},to_categorical(test_df.label))\n",
    "print(\"Test Binary Crossentropy Loss:\", loss)\n",
    "print(\"Test Binary Accuracy:\", acc)"
   ]
  },
  {
   "cell_type": "code",
   "execution_count": 35,
   "id": "8df94f35",
   "metadata": {
    "execution": {
     "iopub.execute_input": "2022-12-14T22:34:27.389789Z",
     "iopub.status.busy": "2022-12-14T22:34:27.389411Z",
     "iopub.status.idle": "2022-12-14T22:34:38.291846Z",
     "shell.execute_reply": "2022-12-14T22:34:38.290773Z"
    },
    "papermill": {
     "duration": 11.221167,
     "end_time": "2022-12-14T22:34:38.294203",
     "exception": false,
     "start_time": "2022-12-14T22:34:27.073036",
     "status": "completed"
    },
    "tags": []
   },
   "outputs": [
    {
     "name": "stdout",
     "output_type": "stream",
     "text": [
      "Confusion Matrix:\n",
      "[[1352    4]\n",
      " [   8  188]]\n",
      "Classification Report:\n",
      "              precision    recall  f1-score   support\n",
      "\n",
      "           0       0.99      1.00      1.00      1356\n",
      "           1       0.98      0.96      0.97       196\n",
      "\n",
      "    accuracy                           0.99      1552\n",
      "   macro avg       0.99      0.98      0.98      1552\n",
      "weighted avg       0.99      0.99      0.99      1552\n",
      "\n"
     ]
    }
   ],
   "source": [
    "test_predictions = model.predict({'input_ids': X_test['input_ids'], 'attention_mask': X_test['attention_mask']})\n",
    "test_predictions = np.argmax(test_predictions,axis=1)\n",
    "print(\"Confusion Matrix:\")\n",
    "print(confusion_matrix(test_df.label,test_predictions))\n",
    "print(\"Classification Report:\")\n",
    "print(classification_report(test_df.label,test_predictions))"
   ]
  },
  {
   "cell_type": "markdown",
   "id": "0064ed74",
   "metadata": {
    "papermill": {
     "duration": 0.363717,
     "end_time": "2022-12-14T22:34:38.982499",
     "exception": false,
     "start_time": "2022-12-14T22:34:38.618782",
     "status": "completed"
    },
    "tags": []
   },
   "source": [
    "Bravo! The fine-tuned ROBERTA-BASE SMS Spam detection transformer model has produced an outstanding balanced accuracy of more than 99% on the test set. \n",
    "\n",
    "Do upvote if you like my work!"
   ]
  }
 ],
 "metadata": {
  "kernelspec": {
   "display_name": "Python 3",
   "language": "python",
   "name": "python3"
  },
  "language_info": {
   "codemirror_mode": {
    "name": "ipython",
    "version": 3
   },
   "file_extension": ".py",
   "mimetype": "text/x-python",
   "name": "python",
   "nbconvert_exporter": "python",
   "pygments_lexer": "ipython3",
   "version": "3.7.12"
  },
  "papermill": {
   "default_parameters": {},
   "duration": 4011.35127,
   "end_time": "2022-12-14T22:34:43.300827",
   "environment_variables": {},
   "exception": null,
   "input_path": "__notebook__.ipynb",
   "output_path": "__notebook__.ipynb",
   "parameters": {},
   "start_time": "2022-12-14T21:27:51.949557",
   "version": "2.3.4"
  },
  "widgets": {
   "application/vnd.jupyter.widget-state+json": {
    "state": {
     "00a222c09d744c6d8b41adb77456ec79": {
      "model_module": "@jupyter-widgets/controls",
      "model_module_version": "1.5.0",
      "model_name": "HTMLModel",
      "state": {
       "_dom_classes": [],
       "_model_module": "@jupyter-widgets/controls",
       "_model_module_version": "1.5.0",
       "_model_name": "HTMLModel",
       "_view_count": null,
       "_view_module": "@jupyter-widgets/controls",
       "_view_module_version": "1.5.0",
       "_view_name": "HTMLView",
       "description": "",
       "description_tooltip": null,
       "layout": "IPY_MODEL_2f2e4b4b1f024c4b993093aa086fa653",
       "placeholder": "​",
       "style": "IPY_MODEL_1f0b7ec339e048c395383dad403fd526",
       "value": " 735/735 [00:00&lt;00:00, 29.3kB/s]"
      }
     },
     "01bb311d3bcc443282d600f5ad3eb3cc": {
      "model_module": "@jupyter-widgets/base",
      "model_module_version": "1.2.0",
      "model_name": "LayoutModel",
      "state": {
       "_model_module": "@jupyter-widgets/base",
       "_model_module_version": "1.2.0",
       "_model_name": "LayoutModel",
       "_view_count": null,
       "_view_module": "@jupyter-widgets/base",
       "_view_module_version": "1.2.0",
       "_view_name": "LayoutView",
       "align_content": null,
       "align_items": null,
       "align_self": null,
       "border": null,
       "bottom": null,
       "display": null,
       "flex": null,
       "flex_flow": null,
       "grid_area": null,
       "grid_auto_columns": null,
       "grid_auto_flow": null,
       "grid_auto_rows": null,
       "grid_column": null,
       "grid_gap": null,
       "grid_row": null,
       "grid_template_areas": null,
       "grid_template_columns": null,
       "grid_template_rows": null,
       "height": null,
       "justify_content": null,
       "justify_items": null,
       "left": null,
       "margin": null,
       "max_height": null,
       "max_width": null,
       "min_height": null,
       "min_width": null,
       "object_fit": null,
       "object_position": null,
       "order": null,
       "overflow": null,
       "overflow_x": null,
       "overflow_y": null,
       "padding": null,
       "right": null,
       "top": null,
       "visibility": null,
       "width": null
      }
     },
     "02d3256adfb54bceae48e09ba3ca8ce4": {
      "model_module": "@jupyter-widgets/controls",
      "model_module_version": "1.5.0",
      "model_name": "FloatProgressModel",
      "state": {
       "_dom_classes": [],
       "_model_module": "@jupyter-widgets/controls",
       "_model_module_version": "1.5.0",
       "_model_name": "FloatProgressModel",
       "_view_count": null,
       "_view_module": "@jupyter-widgets/controls",
       "_view_module_version": "1.5.0",
       "_view_name": "ProgressView",
       "bar_style": "success",
       "description": "",
       "description_tooltip": null,
       "layout": "IPY_MODEL_3cee8cb097cb4fd88c8939364dd40142",
       "max": 498674093.0,
       "min": 0.0,
       "orientation": "horizontal",
       "style": "IPY_MODEL_8d7737ad3e2c4be19aa4a1bd6f653c96",
       "value": 498674093.0
      }
     },
     "09126e78d8ca4f0db6e199b93bd301cf": {
      "model_module": "@jupyter-widgets/base",
      "model_module_version": "1.2.0",
      "model_name": "LayoutModel",
      "state": {
       "_model_module": "@jupyter-widgets/base",
       "_model_module_version": "1.2.0",
       "_model_name": "LayoutModel",
       "_view_count": null,
       "_view_module": "@jupyter-widgets/base",
       "_view_module_version": "1.2.0",
       "_view_name": "LayoutView",
       "align_content": null,
       "align_items": null,
       "align_self": null,
       "border": null,
       "bottom": null,
       "display": null,
       "flex": null,
       "flex_flow": null,
       "grid_area": null,
       "grid_auto_columns": null,
       "grid_auto_flow": null,
       "grid_auto_rows": null,
       "grid_column": null,
       "grid_gap": null,
       "grid_row": null,
       "grid_template_areas": null,
       "grid_template_columns": null,
       "grid_template_rows": null,
       "height": null,
       "justify_content": null,
       "justify_items": null,
       "left": null,
       "margin": null,
       "max_height": null,
       "max_width": null,
       "min_height": null,
       "min_width": null,
       "object_fit": null,
       "object_position": null,
       "order": null,
       "overflow": null,
       "overflow_x": null,
       "overflow_y": null,
       "padding": null,
       "right": null,
       "top": null,
       "visibility": null,
       "width": null
      }
     },
     "119babeaae3c44cf8311a628415d9879": {
      "model_module": "@jupyter-widgets/controls",
      "model_module_version": "1.5.0",
      "model_name": "DescriptionStyleModel",
      "state": {
       "_model_module": "@jupyter-widgets/controls",
       "_model_module_version": "1.5.0",
       "_model_name": "DescriptionStyleModel",
       "_view_count": null,
       "_view_module": "@jupyter-widgets/base",
       "_view_module_version": "1.2.0",
       "_view_name": "StyleView",
       "description_width": ""
      }
     },
     "17137f289499489ca4408187b9ee809e": {
      "model_module": "@jupyter-widgets/base",
      "model_module_version": "1.2.0",
      "model_name": "LayoutModel",
      "state": {
       "_model_module": "@jupyter-widgets/base",
       "_model_module_version": "1.2.0",
       "_model_name": "LayoutModel",
       "_view_count": null,
       "_view_module": "@jupyter-widgets/base",
       "_view_module_version": "1.2.0",
       "_view_name": "LayoutView",
       "align_content": null,
       "align_items": null,
       "align_self": null,
       "border": null,
       "bottom": null,
       "display": null,
       "flex": null,
       "flex_flow": null,
       "grid_area": null,
       "grid_auto_columns": null,
       "grid_auto_flow": null,
       "grid_auto_rows": null,
       "grid_column": null,
       "grid_gap": null,
       "grid_row": null,
       "grid_template_areas": null,
       "grid_template_columns": null,
       "grid_template_rows": null,
       "height": null,
       "justify_content": null,
       "justify_items": null,
       "left": null,
       "margin": null,
       "max_height": null,
       "max_width": null,
       "min_height": null,
       "min_width": null,
       "object_fit": null,
       "object_position": null,
       "order": null,
       "overflow": null,
       "overflow_x": null,
       "overflow_y": null,
       "padding": null,
       "right": null,
       "top": null,
       "visibility": null,
       "width": null
      }
     },
     "192a32f2d8084f6e889989e9fa17ce2a": {
      "model_module": "@jupyter-widgets/controls",
      "model_module_version": "1.5.0",
      "model_name": "HBoxModel",
      "state": {
       "_dom_classes": [],
       "_model_module": "@jupyter-widgets/controls",
       "_model_module_version": "1.5.0",
       "_model_name": "HBoxModel",
       "_view_count": null,
       "_view_module": "@jupyter-widgets/controls",
       "_view_module_version": "1.5.0",
       "_view_name": "HBoxView",
       "box_style": "",
       "children": [
        "IPY_MODEL_3e76a092170a4461947065560bb66bfa",
        "IPY_MODEL_02d3256adfb54bceae48e09ba3ca8ce4",
        "IPY_MODEL_d5af4ceb6289405fa294f0e30f8779c3"
       ],
       "layout": "IPY_MODEL_5460372338ba4bd7ad67e7992d7e9ac2"
      }
     },
     "1d14a7efa1b94f6594a853cb8a83c4d4": {
      "model_module": "@jupyter-widgets/controls",
      "model_module_version": "1.5.0",
      "model_name": "ProgressStyleModel",
      "state": {
       "_model_module": "@jupyter-widgets/controls",
       "_model_module_version": "1.5.0",
       "_model_name": "ProgressStyleModel",
       "_view_count": null,
       "_view_module": "@jupyter-widgets/base",
       "_view_module_version": "1.2.0",
       "_view_name": "StyleView",
       "bar_color": null,
       "description_width": ""
      }
     },
     "1e61e708bc104db781eaa0ce08bf1d33": {
      "model_module": "@jupyter-widgets/controls",
      "model_module_version": "1.5.0",
      "model_name": "DescriptionStyleModel",
      "state": {
       "_model_module": "@jupyter-widgets/controls",
       "_model_module_version": "1.5.0",
       "_model_name": "DescriptionStyleModel",
       "_view_count": null,
       "_view_module": "@jupyter-widgets/base",
       "_view_module_version": "1.2.0",
       "_view_name": "StyleView",
       "description_width": ""
      }
     },
     "1f0b7ec339e048c395383dad403fd526": {
      "model_module": "@jupyter-widgets/controls",
      "model_module_version": "1.5.0",
      "model_name": "DescriptionStyleModel",
      "state": {
       "_model_module": "@jupyter-widgets/controls",
       "_model_module_version": "1.5.0",
       "_model_name": "DescriptionStyleModel",
       "_view_count": null,
       "_view_module": "@jupyter-widgets/base",
       "_view_module_version": "1.2.0",
       "_view_name": "StyleView",
       "description_width": ""
      }
     },
     "2201161e458243a293e44bac198ff442": {
      "model_module": "@jupyter-widgets/base",
      "model_module_version": "1.2.0",
      "model_name": "LayoutModel",
      "state": {
       "_model_module": "@jupyter-widgets/base",
       "_model_module_version": "1.2.0",
       "_model_name": "LayoutModel",
       "_view_count": null,
       "_view_module": "@jupyter-widgets/base",
       "_view_module_version": "1.2.0",
       "_view_name": "LayoutView",
       "align_content": null,
       "align_items": null,
       "align_self": null,
       "border": null,
       "bottom": null,
       "display": null,
       "flex": null,
       "flex_flow": null,
       "grid_area": null,
       "grid_auto_columns": null,
       "grid_auto_flow": null,
       "grid_auto_rows": null,
       "grid_column": null,
       "grid_gap": null,
       "grid_row": null,
       "grid_template_areas": null,
       "grid_template_columns": null,
       "grid_template_rows": null,
       "height": null,
       "justify_content": null,
       "justify_items": null,
       "left": null,
       "margin": null,
       "max_height": null,
       "max_width": null,
       "min_height": null,
       "min_width": null,
       "object_fit": null,
       "object_position": null,
       "order": null,
       "overflow": null,
       "overflow_x": null,
       "overflow_y": null,
       "padding": null,
       "right": null,
       "top": null,
       "visibility": null,
       "width": null
      }
     },
     "22140004abf842809c9d0b9d9699fa66": {
      "model_module": "@jupyter-widgets/controls",
      "model_module_version": "1.5.0",
      "model_name": "HBoxModel",
      "state": {
       "_dom_classes": [],
       "_model_module": "@jupyter-widgets/controls",
       "_model_module_version": "1.5.0",
       "_model_name": "HBoxModel",
       "_view_count": null,
       "_view_module": "@jupyter-widgets/controls",
       "_view_module_version": "1.5.0",
       "_view_name": "HBoxView",
       "box_style": "",
       "children": [
        "IPY_MODEL_731be77f72cf4b0f901c844325ea62de",
        "IPY_MODEL_91bcea14881745af887a90605f6f42db",
        "IPY_MODEL_a2abcd3508154181aaa08cfbe1ea55f5"
       ],
       "layout": "IPY_MODEL_09126e78d8ca4f0db6e199b93bd301cf"
      }
     },
     "221c944cb1624cb39b7681b1342273ed": {
      "model_module": "@jupyter-widgets/controls",
      "model_module_version": "1.5.0",
      "model_name": "HTMLModel",
      "state": {
       "_dom_classes": [],
       "_model_module": "@jupyter-widgets/controls",
       "_model_module_version": "1.5.0",
       "_model_name": "HTMLModel",
       "_view_count": null,
       "_view_module": "@jupyter-widgets/controls",
       "_view_module_version": "1.5.0",
       "_view_name": "HTMLView",
       "description": "",
       "description_tooltip": null,
       "layout": "IPY_MODEL_01bb311d3bcc443282d600f5ad3eb3cc",
       "placeholder": "​",
       "style": "IPY_MODEL_e8d210ee913040a5b58ea94bfd7efa55",
       "value": " 446k/446k [00:00&lt;00:00, 1.39MB/s]"
      }
     },
     "2566276c9ad645f48aff4ec8e379fcb5": {
      "model_module": "@jupyter-widgets/base",
      "model_module_version": "1.2.0",
      "model_name": "LayoutModel",
      "state": {
       "_model_module": "@jupyter-widgets/base",
       "_model_module_version": "1.2.0",
       "_model_name": "LayoutModel",
       "_view_count": null,
       "_view_module": "@jupyter-widgets/base",
       "_view_module_version": "1.2.0",
       "_view_name": "LayoutView",
       "align_content": null,
       "align_items": null,
       "align_self": null,
       "border": null,
       "bottom": null,
       "display": null,
       "flex": null,
       "flex_flow": null,
       "grid_area": null,
       "grid_auto_columns": null,
       "grid_auto_flow": null,
       "grid_auto_rows": null,
       "grid_column": null,
       "grid_gap": null,
       "grid_row": null,
       "grid_template_areas": null,
       "grid_template_columns": null,
       "grid_template_rows": null,
       "height": null,
       "justify_content": null,
       "justify_items": null,
       "left": null,
       "margin": null,
       "max_height": null,
       "max_width": null,
       "min_height": null,
       "min_width": null,
       "object_fit": null,
       "object_position": null,
       "order": null,
       "overflow": null,
       "overflow_x": null,
       "overflow_y": null,
       "padding": null,
       "right": null,
       "top": null,
       "visibility": null,
       "width": null
      }
     },
     "2653bfaa6e20468d850af2e3b147bd2a": {
      "model_module": "@jupyter-widgets/base",
      "model_module_version": "1.2.0",
      "model_name": "LayoutModel",
      "state": {
       "_model_module": "@jupyter-widgets/base",
       "_model_module_version": "1.2.0",
       "_model_name": "LayoutModel",
       "_view_count": null,
       "_view_module": "@jupyter-widgets/base",
       "_view_module_version": "1.2.0",
       "_view_name": "LayoutView",
       "align_content": null,
       "align_items": null,
       "align_self": null,
       "border": null,
       "bottom": null,
       "display": null,
       "flex": null,
       "flex_flow": null,
       "grid_area": null,
       "grid_auto_columns": null,
       "grid_auto_flow": null,
       "grid_auto_rows": null,
       "grid_column": null,
       "grid_gap": null,
       "grid_row": null,
       "grid_template_areas": null,
       "grid_template_columns": null,
       "grid_template_rows": null,
       "height": null,
       "justify_content": null,
       "justify_items": null,
       "left": null,
       "margin": null,
       "max_height": null,
       "max_width": null,
       "min_height": null,
       "min_width": null,
       "object_fit": null,
       "object_position": null,
       "order": null,
       "overflow": null,
       "overflow_x": null,
       "overflow_y": null,
       "padding": null,
       "right": null,
       "top": null,
       "visibility": null,
       "width": null
      }
     },
     "2b37967a308a4162b31633a744bf74ac": {
      "model_module": "@jupyter-widgets/controls",
      "model_module_version": "1.5.0",
      "model_name": "ProgressStyleModel",
      "state": {
       "_model_module": "@jupyter-widgets/controls",
       "_model_module_version": "1.5.0",
       "_model_name": "ProgressStyleModel",
       "_view_count": null,
       "_view_module": "@jupyter-widgets/base",
       "_view_module_version": "1.2.0",
       "_view_name": "StyleView",
       "bar_color": null,
       "description_width": ""
      }
     },
     "2f2e4b4b1f024c4b993093aa086fa653": {
      "model_module": "@jupyter-widgets/base",
      "model_module_version": "1.2.0",
      "model_name": "LayoutModel",
      "state": {
       "_model_module": "@jupyter-widgets/base",
       "_model_module_version": "1.2.0",
       "_model_name": "LayoutModel",
       "_view_count": null,
       "_view_module": "@jupyter-widgets/base",
       "_view_module_version": "1.2.0",
       "_view_name": "LayoutView",
       "align_content": null,
       "align_items": null,
       "align_self": null,
       "border": null,
       "bottom": null,
       "display": null,
       "flex": null,
       "flex_flow": null,
       "grid_area": null,
       "grid_auto_columns": null,
       "grid_auto_flow": null,
       "grid_auto_rows": null,
       "grid_column": null,
       "grid_gap": null,
       "grid_row": null,
       "grid_template_areas": null,
       "grid_template_columns": null,
       "grid_template_rows": null,
       "height": null,
       "justify_content": null,
       "justify_items": null,
       "left": null,
       "margin": null,
       "max_height": null,
       "max_width": null,
       "min_height": null,
       "min_width": null,
       "object_fit": null,
       "object_position": null,
       "order": null,
       "overflow": null,
       "overflow_x": null,
       "overflow_y": null,
       "padding": null,
       "right": null,
       "top": null,
       "visibility": null,
       "width": null
      }
     },
     "32f0e233cfc14708a8be475f3a3e62ee": {
      "model_module": "@jupyter-widgets/controls",
      "model_module_version": "1.5.0",
      "model_name": "FloatProgressModel",
      "state": {
       "_dom_classes": [],
       "_model_module": "@jupyter-widgets/controls",
       "_model_module_version": "1.5.0",
       "_model_name": "FloatProgressModel",
       "_view_count": null,
       "_view_module": "@jupyter-widgets/controls",
       "_view_module_version": "1.5.0",
       "_view_name": "ProgressView",
       "bar_style": "success",
       "description": "",
       "description_tooltip": null,
       "layout": "IPY_MODEL_996fc2dcba52451080c1fd87cd7f1983",
       "max": 349.0,
       "min": 0.0,
       "orientation": "horizontal",
       "style": "IPY_MODEL_592f3c1969754d3182dfc408237ba414",
       "value": 349.0
      }
     },
     "365571fc541c4e5c914bdaec73bd1f34": {
      "model_module": "@jupyter-widgets/controls",
      "model_module_version": "1.5.0",
      "model_name": "HTMLModel",
      "state": {
       "_dom_classes": [],
       "_model_module": "@jupyter-widgets/controls",
       "_model_module_version": "1.5.0",
       "_model_name": "HTMLModel",
       "_view_count": null,
       "_view_module": "@jupyter-widgets/controls",
       "_view_module_version": "1.5.0",
       "_view_name": "HTMLView",
       "description": "",
       "description_tooltip": null,
       "layout": "IPY_MODEL_7304ad0f0dc1419d971ab9646ae611b8",
       "placeholder": "​",
       "style": "IPY_MODEL_b36e66e23893481f9c0f915a22eb4534",
       "value": "Downloading: 100%"
      }
     },
     "3824cf9a4a114f1489e5aa30e0afc4f2": {
      "model_module": "@jupyter-widgets/controls",
      "model_module_version": "1.5.0",
      "model_name": "HTMLModel",
      "state": {
       "_dom_classes": [],
       "_model_module": "@jupyter-widgets/controls",
       "_model_module_version": "1.5.0",
       "_model_name": "HTMLModel",
       "_view_count": null,
       "_view_module": "@jupyter-widgets/controls",
       "_view_module_version": "1.5.0",
       "_view_name": "HTMLView",
       "description": "",
       "description_tooltip": null,
       "layout": "IPY_MODEL_17137f289499489ca4408187b9ee809e",
       "placeholder": "​",
       "style": "IPY_MODEL_c5068723981746f6a0bbf1f03f15512c",
       "value": "Downloading: 100%"
      }
     },
     "3ac89dccecea4e6aa275eb0190781b2d": {
      "model_module": "@jupyter-widgets/controls",
      "model_module_version": "1.5.0",
      "model_name": "DescriptionStyleModel",
      "state": {
       "_model_module": "@jupyter-widgets/controls",
       "_model_module_version": "1.5.0",
       "_model_name": "DescriptionStyleModel",
       "_view_count": null,
       "_view_module": "@jupyter-widgets/base",
       "_view_module_version": "1.2.0",
       "_view_name": "StyleView",
       "description_width": ""
      }
     },
     "3cee8cb097cb4fd88c8939364dd40142": {
      "model_module": "@jupyter-widgets/base",
      "model_module_version": "1.2.0",
      "model_name": "LayoutModel",
      "state": {
       "_model_module": "@jupyter-widgets/base",
       "_model_module_version": "1.2.0",
       "_model_name": "LayoutModel",
       "_view_count": null,
       "_view_module": "@jupyter-widgets/base",
       "_view_module_version": "1.2.0",
       "_view_name": "LayoutView",
       "align_content": null,
       "align_items": null,
       "align_self": null,
       "border": null,
       "bottom": null,
       "display": null,
       "flex": null,
       "flex_flow": null,
       "grid_area": null,
       "grid_auto_columns": null,
       "grid_auto_flow": null,
       "grid_auto_rows": null,
       "grid_column": null,
       "grid_gap": null,
       "grid_row": null,
       "grid_template_areas": null,
       "grid_template_columns": null,
       "grid_template_rows": null,
       "height": null,
       "justify_content": null,
       "justify_items": null,
       "left": null,
       "margin": null,
       "max_height": null,
       "max_width": null,
       "min_height": null,
       "min_width": null,
       "object_fit": null,
       "object_position": null,
       "order": null,
       "overflow": null,
       "overflow_x": null,
       "overflow_y": null,
       "padding": null,
       "right": null,
       "top": null,
       "visibility": null,
       "width": null
      }
     },
     "3d98fcc664aa4738b276535dd8b31353": {
      "model_module": "@jupyter-widgets/controls",
      "model_module_version": "1.5.0",
      "model_name": "FloatProgressModel",
      "state": {
       "_dom_classes": [],
       "_model_module": "@jupyter-widgets/controls",
       "_model_module_version": "1.5.0",
       "_model_name": "FloatProgressModel",
       "_view_count": null,
       "_view_module": "@jupyter-widgets/controls",
       "_view_module_version": "1.5.0",
       "_view_name": "ProgressView",
       "bar_style": "success",
       "description": "",
       "description_tooltip": null,
       "layout": "IPY_MODEL_dffabb63bbda435f9da25739688f5eea",
       "max": 798293.0,
       "min": 0.0,
       "orientation": "horizontal",
       "style": "IPY_MODEL_3da0ffadf3d341e588d3981d509e5b41",
       "value": 798293.0
      }
     },
     "3da0ffadf3d341e588d3981d509e5b41": {
      "model_module": "@jupyter-widgets/controls",
      "model_module_version": "1.5.0",
      "model_name": "ProgressStyleModel",
      "state": {
       "_model_module": "@jupyter-widgets/controls",
       "_model_module_version": "1.5.0",
       "_model_name": "ProgressStyleModel",
       "_view_count": null,
       "_view_module": "@jupyter-widgets/base",
       "_view_module_version": "1.2.0",
       "_view_name": "StyleView",
       "bar_color": null,
       "description_width": ""
      }
     },
     "3e76a092170a4461947065560bb66bfa": {
      "model_module": "@jupyter-widgets/controls",
      "model_module_version": "1.5.0",
      "model_name": "HTMLModel",
      "state": {
       "_dom_classes": [],
       "_model_module": "@jupyter-widgets/controls",
       "_model_module_version": "1.5.0",
       "_model_name": "HTMLModel",
       "_view_count": null,
       "_view_module": "@jupyter-widgets/controls",
       "_view_module_version": "1.5.0",
       "_view_name": "HTMLView",
       "description": "",
       "description_tooltip": null,
       "layout": "IPY_MODEL_c3359373c51e40ce9664973ad54a37e3",
       "placeholder": "​",
       "style": "IPY_MODEL_b728d01f1e25410fad4b8b319c6becf9",
       "value": "Downloading: 100%"
      }
     },
     "46d26c5695fc4734a063abfeae21a7f9": {
      "model_module": "@jupyter-widgets/controls",
      "model_module_version": "1.5.0",
      "model_name": "HBoxModel",
      "state": {
       "_dom_classes": [],
       "_model_module": "@jupyter-widgets/controls",
       "_model_module_version": "1.5.0",
       "_model_name": "HBoxModel",
       "_view_count": null,
       "_view_module": "@jupyter-widgets/controls",
       "_view_module_version": "1.5.0",
       "_view_name": "HBoxView",
       "box_style": "",
       "children": [
        "IPY_MODEL_3824cf9a4a114f1489e5aa30e0afc4f2",
        "IPY_MODEL_d426a053a19f40279f30c99ed3e98891",
        "IPY_MODEL_c9edfc93fa9a446d81eb5e11aca6bb9b"
       ],
       "layout": "IPY_MODEL_ab33f36e5a3f435aa9a4d2c09c5aa7ee"
      }
     },
     "4ca630b0366c4e2f80bee57a771ec4cc": {
      "model_module": "@jupyter-widgets/base",
      "model_module_version": "1.2.0",
      "model_name": "LayoutModel",
      "state": {
       "_model_module": "@jupyter-widgets/base",
       "_model_module_version": "1.2.0",
       "_model_name": "LayoutModel",
       "_view_count": null,
       "_view_module": "@jupyter-widgets/base",
       "_view_module_version": "1.2.0",
       "_view_name": "LayoutView",
       "align_content": null,
       "align_items": null,
       "align_self": null,
       "border": null,
       "bottom": null,
       "display": null,
       "flex": null,
       "flex_flow": null,
       "grid_area": null,
       "grid_auto_columns": null,
       "grid_auto_flow": null,
       "grid_auto_rows": null,
       "grid_column": null,
       "grid_gap": null,
       "grid_row": null,
       "grid_template_areas": null,
       "grid_template_columns": null,
       "grid_template_rows": null,
       "height": null,
       "justify_content": null,
       "justify_items": null,
       "left": null,
       "margin": null,
       "max_height": null,
       "max_width": null,
       "min_height": null,
       "min_width": null,
       "object_fit": null,
       "object_position": null,
       "order": null,
       "overflow": null,
       "overflow_x": null,
       "overflow_y": null,
       "padding": null,
       "right": null,
       "top": null,
       "visibility": null,
       "width": null
      }
     },
     "4cc55d14e3474a27bc50deab0120905d": {
      "model_module": "@jupyter-widgets/base",
      "model_module_version": "1.2.0",
      "model_name": "LayoutModel",
      "state": {
       "_model_module": "@jupyter-widgets/base",
       "_model_module_version": "1.2.0",
       "_model_name": "LayoutModel",
       "_view_count": null,
       "_view_module": "@jupyter-widgets/base",
       "_view_module_version": "1.2.0",
       "_view_name": "LayoutView",
       "align_content": null,
       "align_items": null,
       "align_self": null,
       "border": null,
       "bottom": null,
       "display": null,
       "flex": null,
       "flex_flow": null,
       "grid_area": null,
       "grid_auto_columns": null,
       "grid_auto_flow": null,
       "grid_auto_rows": null,
       "grid_column": null,
       "grid_gap": null,
       "grid_row": null,
       "grid_template_areas": null,
       "grid_template_columns": null,
       "grid_template_rows": null,
       "height": null,
       "justify_content": null,
       "justify_items": null,
       "left": null,
       "margin": null,
       "max_height": null,
       "max_width": null,
       "min_height": null,
       "min_width": null,
       "object_fit": null,
       "object_position": null,
       "order": null,
       "overflow": null,
       "overflow_x": null,
       "overflow_y": null,
       "padding": null,
       "right": null,
       "top": null,
       "visibility": null,
       "width": null
      }
     },
     "4ed8fe141ee547bf82801439a5452dfb": {
      "model_module": "@jupyter-widgets/controls",
      "model_module_version": "1.5.0",
      "model_name": "ProgressStyleModel",
      "state": {
       "_model_module": "@jupyter-widgets/controls",
       "_model_module_version": "1.5.0",
       "_model_name": "ProgressStyleModel",
       "_view_count": null,
       "_view_module": "@jupyter-widgets/base",
       "_view_module_version": "1.2.0",
       "_view_name": "StyleView",
       "bar_color": null,
       "description_width": ""
      }
     },
     "4edf93c48ae943bf92e74532db75fd14": {
      "model_module": "@jupyter-widgets/controls",
      "model_module_version": "1.5.0",
      "model_name": "DescriptionStyleModel",
      "state": {
       "_model_module": "@jupyter-widgets/controls",
       "_model_module_version": "1.5.0",
       "_model_name": "DescriptionStyleModel",
       "_view_count": null,
       "_view_module": "@jupyter-widgets/base",
       "_view_module_version": "1.2.0",
       "_view_name": "StyleView",
       "description_width": ""
      }
     },
     "500ad72e9cc2440bbd85b3bbe54f5197": {
      "model_module": "@jupyter-widgets/controls",
      "model_module_version": "1.5.0",
      "model_name": "HTMLModel",
      "state": {
       "_dom_classes": [],
       "_model_module": "@jupyter-widgets/controls",
       "_model_module_version": "1.5.0",
       "_model_name": "HTMLModel",
       "_view_count": null,
       "_view_module": "@jupyter-widgets/controls",
       "_view_module_version": "1.5.0",
       "_view_name": "HTMLView",
       "description": "",
       "description_tooltip": null,
       "layout": "IPY_MODEL_8e512af550a84f869a9aa5679f12e172",
       "placeholder": "​",
       "style": "IPY_MODEL_f4df19513875446c85e29cb56d074768",
       "value": "Downloading: 100%"
      }
     },
     "5460372338ba4bd7ad67e7992d7e9ac2": {
      "model_module": "@jupyter-widgets/base",
      "model_module_version": "1.2.0",
      "model_name": "LayoutModel",
      "state": {
       "_model_module": "@jupyter-widgets/base",
       "_model_module_version": "1.2.0",
       "_model_name": "LayoutModel",
       "_view_count": null,
       "_view_module": "@jupyter-widgets/base",
       "_view_module_version": "1.2.0",
       "_view_name": "LayoutView",
       "align_content": null,
       "align_items": null,
       "align_self": null,
       "border": null,
       "bottom": null,
       "display": null,
       "flex": null,
       "flex_flow": null,
       "grid_area": null,
       "grid_auto_columns": null,
       "grid_auto_flow": null,
       "grid_auto_rows": null,
       "grid_column": null,
       "grid_gap": null,
       "grid_row": null,
       "grid_template_areas": null,
       "grid_template_columns": null,
       "grid_template_rows": null,
       "height": null,
       "justify_content": null,
       "justify_items": null,
       "left": null,
       "margin": null,
       "max_height": null,
       "max_width": null,
       "min_height": null,
       "min_width": null,
       "object_fit": null,
       "object_position": null,
       "order": null,
       "overflow": null,
       "overflow_x": null,
       "overflow_y": null,
       "padding": null,
       "right": null,
       "top": null,
       "visibility": null,
       "width": null
      }
     },
     "592f3c1969754d3182dfc408237ba414": {
      "model_module": "@jupyter-widgets/controls",
      "model_module_version": "1.5.0",
      "model_name": "ProgressStyleModel",
      "state": {
       "_model_module": "@jupyter-widgets/controls",
       "_model_module_version": "1.5.0",
       "_model_name": "ProgressStyleModel",
       "_view_count": null,
       "_view_module": "@jupyter-widgets/base",
       "_view_module_version": "1.2.0",
       "_view_name": "StyleView",
       "bar_color": null,
       "description_width": ""
      }
     },
     "5e1b6a6bcf934143aae8c70af9d3e365": {
      "model_module": "@jupyter-widgets/base",
      "model_module_version": "1.2.0",
      "model_name": "LayoutModel",
      "state": {
       "_model_module": "@jupyter-widgets/base",
       "_model_module_version": "1.2.0",
       "_model_name": "LayoutModel",
       "_view_count": null,
       "_view_module": "@jupyter-widgets/base",
       "_view_module_version": "1.2.0",
       "_view_name": "LayoutView",
       "align_content": null,
       "align_items": null,
       "align_self": null,
       "border": null,
       "bottom": null,
       "display": null,
       "flex": null,
       "flex_flow": null,
       "grid_area": null,
       "grid_auto_columns": null,
       "grid_auto_flow": null,
       "grid_auto_rows": null,
       "grid_column": null,
       "grid_gap": null,
       "grid_row": null,
       "grid_template_areas": null,
       "grid_template_columns": null,
       "grid_template_rows": null,
       "height": null,
       "justify_content": null,
       "justify_items": null,
       "left": null,
       "margin": null,
       "max_height": null,
       "max_width": null,
       "min_height": null,
       "min_width": null,
       "object_fit": null,
       "object_position": null,
       "order": null,
       "overflow": null,
       "overflow_x": null,
       "overflow_y": null,
       "padding": null,
       "right": null,
       "top": null,
       "visibility": null,
       "width": null
      }
     },
     "5ef0d5b7d8ce4684bbd2c23de8050b54": {
      "model_module": "@jupyter-widgets/controls",
      "model_module_version": "1.5.0",
      "model_name": "FloatProgressModel",
      "state": {
       "_dom_classes": [],
       "_model_module": "@jupyter-widgets/controls",
       "_model_module_version": "1.5.0",
       "_model_name": "FloatProgressModel",
       "_view_count": null,
       "_view_module": "@jupyter-widgets/controls",
       "_view_module_version": "1.5.0",
       "_view_name": "ProgressView",
       "bar_style": "success",
       "description": "",
       "description_tooltip": null,
       "layout": "IPY_MODEL_7f2c063d7d5042a491f757a3709a9d9e",
       "max": 456356.0,
       "min": 0.0,
       "orientation": "horizontal",
       "style": "IPY_MODEL_1d14a7efa1b94f6594a853cb8a83c4d4",
       "value": 456356.0
      }
     },
     "673eefca8d0f4e94b513e01b60815037": {
      "model_module": "@jupyter-widgets/controls",
      "model_module_version": "1.5.0",
      "model_name": "HBoxModel",
      "state": {
       "_dom_classes": [],
       "_model_module": "@jupyter-widgets/controls",
       "_model_module_version": "1.5.0",
       "_model_name": "HBoxModel",
       "_view_count": null,
       "_view_module": "@jupyter-widgets/controls",
       "_view_module_version": "1.5.0",
       "_view_name": "HBoxView",
       "box_style": "",
       "children": [
        "IPY_MODEL_365571fc541c4e5c914bdaec73bd1f34",
        "IPY_MODEL_5ef0d5b7d8ce4684bbd2c23de8050b54",
        "IPY_MODEL_221c944cb1624cb39b7681b1342273ed"
       ],
       "layout": "IPY_MODEL_d604f0f8e37a4f3d9ef060cf32819ae9"
      }
     },
     "6a3e6fa803bd4e17b010e367a89bd2a8": {
      "model_module": "@jupyter-widgets/base",
      "model_module_version": "1.2.0",
      "model_name": "LayoutModel",
      "state": {
       "_model_module": "@jupyter-widgets/base",
       "_model_module_version": "1.2.0",
       "_model_name": "LayoutModel",
       "_view_count": null,
       "_view_module": "@jupyter-widgets/base",
       "_view_module_version": "1.2.0",
       "_view_name": "LayoutView",
       "align_content": null,
       "align_items": null,
       "align_self": null,
       "border": null,
       "bottom": null,
       "display": null,
       "flex": null,
       "flex_flow": null,
       "grid_area": null,
       "grid_auto_columns": null,
       "grid_auto_flow": null,
       "grid_auto_rows": null,
       "grid_column": null,
       "grid_gap": null,
       "grid_row": null,
       "grid_template_areas": null,
       "grid_template_columns": null,
       "grid_template_rows": null,
       "height": null,
       "justify_content": null,
       "justify_items": null,
       "left": null,
       "margin": null,
       "max_height": null,
       "max_width": null,
       "min_height": null,
       "min_width": null,
       "object_fit": null,
       "object_position": null,
       "order": null,
       "overflow": null,
       "overflow_x": null,
       "overflow_y": null,
       "padding": null,
       "right": null,
       "top": null,
       "visibility": null,
       "width": null
      }
     },
     "7304ad0f0dc1419d971ab9646ae611b8": {
      "model_module": "@jupyter-widgets/base",
      "model_module_version": "1.2.0",
      "model_name": "LayoutModel",
      "state": {
       "_model_module": "@jupyter-widgets/base",
       "_model_module_version": "1.2.0",
       "_model_name": "LayoutModel",
       "_view_count": null,
       "_view_module": "@jupyter-widgets/base",
       "_view_module_version": "1.2.0",
       "_view_name": "LayoutView",
       "align_content": null,
       "align_items": null,
       "align_self": null,
       "border": null,
       "bottom": null,
       "display": null,
       "flex": null,
       "flex_flow": null,
       "grid_area": null,
       "grid_auto_columns": null,
       "grid_auto_flow": null,
       "grid_auto_rows": null,
       "grid_column": null,
       "grid_gap": null,
       "grid_row": null,
       "grid_template_areas": null,
       "grid_template_columns": null,
       "grid_template_rows": null,
       "height": null,
       "justify_content": null,
       "justify_items": null,
       "left": null,
       "margin": null,
       "max_height": null,
       "max_width": null,
       "min_height": null,
       "min_width": null,
       "object_fit": null,
       "object_position": null,
       "order": null,
       "overflow": null,
       "overflow_x": null,
       "overflow_y": null,
       "padding": null,
       "right": null,
       "top": null,
       "visibility": null,
       "width": null
      }
     },
     "731be77f72cf4b0f901c844325ea62de": {
      "model_module": "@jupyter-widgets/controls",
      "model_module_version": "1.5.0",
      "model_name": "HTMLModel",
      "state": {
       "_dom_classes": [],
       "_model_module": "@jupyter-widgets/controls",
       "_model_module_version": "1.5.0",
       "_model_name": "HTMLModel",
       "_view_count": null,
       "_view_module": "@jupyter-widgets/controls",
       "_view_module_version": "1.5.0",
       "_view_name": "HTMLView",
       "description": "",
       "description_tooltip": null,
       "layout": "IPY_MODEL_5e1b6a6bcf934143aae8c70af9d3e365",
       "placeholder": "​",
       "style": "IPY_MODEL_f393ca4106744745b8b0ad014324ed73",
       "value": "Downloading: 100%"
      }
     },
     "7382fe28ac8042d285a9e9f5f488fff1": {
      "model_module": "@jupyter-widgets/controls",
      "model_module_version": "1.5.0",
      "model_name": "HBoxModel",
      "state": {
       "_dom_classes": [],
       "_model_module": "@jupyter-widgets/controls",
       "_model_module_version": "1.5.0",
       "_model_name": "HBoxModel",
       "_view_count": null,
       "_view_module": "@jupyter-widgets/controls",
       "_view_module_version": "1.5.0",
       "_view_name": "HBoxView",
       "box_style": "",
       "children": [
        "IPY_MODEL_fecadee3489744a6971ca88af461f5c5",
        "IPY_MODEL_3d98fcc664aa4738b276535dd8b31353",
        "IPY_MODEL_8c3a74f78c6645439844d9e284ebea60"
       ],
       "layout": "IPY_MODEL_93d878c301b24cccaae90b7dff0dcd4f"
      }
     },
     "77eb2413049245d887e24ba76dde46be": {
      "model_module": "@jupyter-widgets/base",
      "model_module_version": "1.2.0",
      "model_name": "LayoutModel",
      "state": {
       "_model_module": "@jupyter-widgets/base",
       "_model_module_version": "1.2.0",
       "_model_name": "LayoutModel",
       "_view_count": null,
       "_view_module": "@jupyter-widgets/base",
       "_view_module_version": "1.2.0",
       "_view_name": "LayoutView",
       "align_content": null,
       "align_items": null,
       "align_self": null,
       "border": null,
       "bottom": null,
       "display": null,
       "flex": null,
       "flex_flow": null,
       "grid_area": null,
       "grid_auto_columns": null,
       "grid_auto_flow": null,
       "grid_auto_rows": null,
       "grid_column": null,
       "grid_gap": null,
       "grid_row": null,
       "grid_template_areas": null,
       "grid_template_columns": null,
       "grid_template_rows": null,
       "height": null,
       "justify_content": null,
       "justify_items": null,
       "left": null,
       "margin": null,
       "max_height": null,
       "max_width": null,
       "min_height": null,
       "min_width": null,
       "object_fit": null,
       "object_position": null,
       "order": null,
       "overflow": null,
       "overflow_x": null,
       "overflow_y": null,
       "padding": null,
       "right": null,
       "top": null,
       "visibility": null,
       "width": null
      }
     },
     "7c1c3635697846119875aa3a07deeb1d": {
      "model_module": "@jupyter-widgets/controls",
      "model_module_version": "1.5.0",
      "model_name": "DescriptionStyleModel",
      "state": {
       "_model_module": "@jupyter-widgets/controls",
       "_model_module_version": "1.5.0",
       "_model_name": "DescriptionStyleModel",
       "_view_count": null,
       "_view_module": "@jupyter-widgets/base",
       "_view_module_version": "1.2.0",
       "_view_name": "StyleView",
       "description_width": ""
      }
     },
     "7f2c063d7d5042a491f757a3709a9d9e": {
      "model_module": "@jupyter-widgets/base",
      "model_module_version": "1.2.0",
      "model_name": "LayoutModel",
      "state": {
       "_model_module": "@jupyter-widgets/base",
       "_model_module_version": "1.2.0",
       "_model_name": "LayoutModel",
       "_view_count": null,
       "_view_module": "@jupyter-widgets/base",
       "_view_module_version": "1.2.0",
       "_view_name": "LayoutView",
       "align_content": null,
       "align_items": null,
       "align_self": null,
       "border": null,
       "bottom": null,
       "display": null,
       "flex": null,
       "flex_flow": null,
       "grid_area": null,
       "grid_auto_columns": null,
       "grid_auto_flow": null,
       "grid_auto_rows": null,
       "grid_column": null,
       "grid_gap": null,
       "grid_row": null,
       "grid_template_areas": null,
       "grid_template_columns": null,
       "grid_template_rows": null,
       "height": null,
       "justify_content": null,
       "justify_items": null,
       "left": null,
       "margin": null,
       "max_height": null,
       "max_width": null,
       "min_height": null,
       "min_width": null,
       "object_fit": null,
       "object_position": null,
       "order": null,
       "overflow": null,
       "overflow_x": null,
       "overflow_y": null,
       "padding": null,
       "right": null,
       "top": null,
       "visibility": null,
       "width": null
      }
     },
     "8c3a74f78c6645439844d9e284ebea60": {
      "model_module": "@jupyter-widgets/controls",
      "model_module_version": "1.5.0",
      "model_name": "HTMLModel",
      "state": {
       "_dom_classes": [],
       "_model_module": "@jupyter-widgets/controls",
       "_model_module_version": "1.5.0",
       "_model_name": "HTMLModel",
       "_view_count": null,
       "_view_module": "@jupyter-widgets/controls",
       "_view_module_version": "1.5.0",
       "_view_name": "HTMLView",
       "description": "",
       "description_tooltip": null,
       "layout": "IPY_MODEL_4ca630b0366c4e2f80bee57a771ec4cc",
       "placeholder": "​",
       "style": "IPY_MODEL_3ac89dccecea4e6aa275eb0190781b2d",
       "value": " 780k/780k [00:00&lt;00:00, 1.63MB/s]"
      }
     },
     "8d7737ad3e2c4be19aa4a1bd6f653c96": {
      "model_module": "@jupyter-widgets/controls",
      "model_module_version": "1.5.0",
      "model_name": "ProgressStyleModel",
      "state": {
       "_model_module": "@jupyter-widgets/controls",
       "_model_module_version": "1.5.0",
       "_model_name": "ProgressStyleModel",
       "_view_count": null,
       "_view_module": "@jupyter-widgets/base",
       "_view_module_version": "1.2.0",
       "_view_name": "StyleView",
       "bar_color": null,
       "description_width": ""
      }
     },
     "8e512af550a84f869a9aa5679f12e172": {
      "model_module": "@jupyter-widgets/base",
      "model_module_version": "1.2.0",
      "model_name": "LayoutModel",
      "state": {
       "_model_module": "@jupyter-widgets/base",
       "_model_module_version": "1.2.0",
       "_model_name": "LayoutModel",
       "_view_count": null,
       "_view_module": "@jupyter-widgets/base",
       "_view_module_version": "1.2.0",
       "_view_name": "LayoutView",
       "align_content": null,
       "align_items": null,
       "align_self": null,
       "border": null,
       "bottom": null,
       "display": null,
       "flex": null,
       "flex_flow": null,
       "grid_area": null,
       "grid_auto_columns": null,
       "grid_auto_flow": null,
       "grid_auto_rows": null,
       "grid_column": null,
       "grid_gap": null,
       "grid_row": null,
       "grid_template_areas": null,
       "grid_template_columns": null,
       "grid_template_rows": null,
       "height": null,
       "justify_content": null,
       "justify_items": null,
       "left": null,
       "margin": null,
       "max_height": null,
       "max_width": null,
       "min_height": null,
       "min_width": null,
       "object_fit": null,
       "object_position": null,
       "order": null,
       "overflow": null,
       "overflow_x": null,
       "overflow_y": null,
       "padding": null,
       "right": null,
       "top": null,
       "visibility": null,
       "width": null
      }
     },
     "90310d7de4354b6aaf8d2d9b14bfa295": {
      "model_module": "@jupyter-widgets/base",
      "model_module_version": "1.2.0",
      "model_name": "LayoutModel",
      "state": {
       "_model_module": "@jupyter-widgets/base",
       "_model_module_version": "1.2.0",
       "_model_name": "LayoutModel",
       "_view_count": null,
       "_view_module": "@jupyter-widgets/base",
       "_view_module_version": "1.2.0",
       "_view_name": "LayoutView",
       "align_content": null,
       "align_items": null,
       "align_self": null,
       "border": null,
       "bottom": null,
       "display": null,
       "flex": null,
       "flex_flow": null,
       "grid_area": null,
       "grid_auto_columns": null,
       "grid_auto_flow": null,
       "grid_auto_rows": null,
       "grid_column": null,
       "grid_gap": null,
       "grid_row": null,
       "grid_template_areas": null,
       "grid_template_columns": null,
       "grid_template_rows": null,
       "height": null,
       "justify_content": null,
       "justify_items": null,
       "left": null,
       "margin": null,
       "max_height": null,
       "max_width": null,
       "min_height": null,
       "min_width": null,
       "object_fit": null,
       "object_position": null,
       "order": null,
       "overflow": null,
       "overflow_x": null,
       "overflow_y": null,
       "padding": null,
       "right": null,
       "top": null,
       "visibility": null,
       "width": null
      }
     },
     "90ff08c236d744ceae2a88760f41152a": {
      "model_module": "@jupyter-widgets/controls",
      "model_module_version": "1.5.0",
      "model_name": "FloatProgressModel",
      "state": {
       "_dom_classes": [],
       "_model_module": "@jupyter-widgets/controls",
       "_model_module_version": "1.5.0",
       "_model_name": "FloatProgressModel",
       "_view_count": null,
       "_view_module": "@jupyter-widgets/controls",
       "_view_module_version": "1.5.0",
       "_view_name": "ProgressView",
       "bar_style": "success",
       "description": "",
       "description_tooltip": null,
       "layout": "IPY_MODEL_2566276c9ad645f48aff4ec8e379fcb5",
       "max": 735.0,
       "min": 0.0,
       "orientation": "horizontal",
       "style": "IPY_MODEL_2b37967a308a4162b31633a744bf74ac",
       "value": 735.0
      }
     },
     "91bcea14881745af887a90605f6f42db": {
      "model_module": "@jupyter-widgets/controls",
      "model_module_version": "1.5.0",
      "model_name": "FloatProgressModel",
      "state": {
       "_dom_classes": [],
       "_model_module": "@jupyter-widgets/controls",
       "_model_module_version": "1.5.0",
       "_model_name": "FloatProgressModel",
       "_view_count": null,
       "_view_module": "@jupyter-widgets/controls",
       "_view_module_version": "1.5.0",
       "_view_name": "ProgressView",
       "bar_style": "success",
       "description": "",
       "description_tooltip": null,
       "layout": "IPY_MODEL_a0ecd5908e6f403088a21675dc44cf87",
       "max": 239.0,
       "min": 0.0,
       "orientation": "horizontal",
       "style": "IPY_MODEL_4ed8fe141ee547bf82801439a5452dfb",
       "value": 239.0
      }
     },
     "93d878c301b24cccaae90b7dff0dcd4f": {
      "model_module": "@jupyter-widgets/base",
      "model_module_version": "1.2.0",
      "model_name": "LayoutModel",
      "state": {
       "_model_module": "@jupyter-widgets/base",
       "_model_module_version": "1.2.0",
       "_model_name": "LayoutModel",
       "_view_count": null,
       "_view_module": "@jupyter-widgets/base",
       "_view_module_version": "1.2.0",
       "_view_name": "LayoutView",
       "align_content": null,
       "align_items": null,
       "align_self": null,
       "border": null,
       "bottom": null,
       "display": null,
       "flex": null,
       "flex_flow": null,
       "grid_area": null,
       "grid_auto_columns": null,
       "grid_auto_flow": null,
       "grid_auto_rows": null,
       "grid_column": null,
       "grid_gap": null,
       "grid_row": null,
       "grid_template_areas": null,
       "grid_template_columns": null,
       "grid_template_rows": null,
       "height": null,
       "justify_content": null,
       "justify_items": null,
       "left": null,
       "margin": null,
       "max_height": null,
       "max_width": null,
       "min_height": null,
       "min_width": null,
       "object_fit": null,
       "object_position": null,
       "order": null,
       "overflow": null,
       "overflow_x": null,
       "overflow_y": null,
       "padding": null,
       "right": null,
       "top": null,
       "visibility": null,
       "width": null
      }
     },
     "983d4de6433b425993832061f7b6d354": {
      "model_module": "@jupyter-widgets/controls",
      "model_module_version": "1.5.0",
      "model_name": "HBoxModel",
      "state": {
       "_dom_classes": [],
       "_model_module": "@jupyter-widgets/controls",
       "_model_module_version": "1.5.0",
       "_model_name": "HBoxModel",
       "_view_count": null,
       "_view_module": "@jupyter-widgets/controls",
       "_view_module_version": "1.5.0",
       "_view_name": "HBoxView",
       "box_style": "",
       "children": [
        "IPY_MODEL_500ad72e9cc2440bbd85b3bbe54f5197",
        "IPY_MODEL_90ff08c236d744ceae2a88760f41152a",
        "IPY_MODEL_00a222c09d744c6d8b41adb77456ec79"
       ],
       "layout": "IPY_MODEL_4cc55d14e3474a27bc50deab0120905d"
      }
     },
     "996fc2dcba52451080c1fd87cd7f1983": {
      "model_module": "@jupyter-widgets/base",
      "model_module_version": "1.2.0",
      "model_name": "LayoutModel",
      "state": {
       "_model_module": "@jupyter-widgets/base",
       "_model_module_version": "1.2.0",
       "_model_name": "LayoutModel",
       "_view_count": null,
       "_view_module": "@jupyter-widgets/base",
       "_view_module_version": "1.2.0",
       "_view_name": "LayoutView",
       "align_content": null,
       "align_items": null,
       "align_self": null,
       "border": null,
       "bottom": null,
       "display": null,
       "flex": null,
       "flex_flow": null,
       "grid_area": null,
       "grid_auto_columns": null,
       "grid_auto_flow": null,
       "grid_auto_rows": null,
       "grid_column": null,
       "grid_gap": null,
       "grid_row": null,
       "grid_template_areas": null,
       "grid_template_columns": null,
       "grid_template_rows": null,
       "height": null,
       "justify_content": null,
       "justify_items": null,
       "left": null,
       "margin": null,
       "max_height": null,
       "max_width": null,
       "min_height": null,
       "min_width": null,
       "object_fit": null,
       "object_position": null,
       "order": null,
       "overflow": null,
       "overflow_x": null,
       "overflow_y": null,
       "padding": null,
       "right": null,
       "top": null,
       "visibility": null,
       "width": null
      }
     },
     "a0ecd5908e6f403088a21675dc44cf87": {
      "model_module": "@jupyter-widgets/base",
      "model_module_version": "1.2.0",
      "model_name": "LayoutModel",
      "state": {
       "_model_module": "@jupyter-widgets/base",
       "_model_module_version": "1.2.0",
       "_model_name": "LayoutModel",
       "_view_count": null,
       "_view_module": "@jupyter-widgets/base",
       "_view_module_version": "1.2.0",
       "_view_name": "LayoutView",
       "align_content": null,
       "align_items": null,
       "align_self": null,
       "border": null,
       "bottom": null,
       "display": null,
       "flex": null,
       "flex_flow": null,
       "grid_area": null,
       "grid_auto_columns": null,
       "grid_auto_flow": null,
       "grid_auto_rows": null,
       "grid_column": null,
       "grid_gap": null,
       "grid_row": null,
       "grid_template_areas": null,
       "grid_template_columns": null,
       "grid_template_rows": null,
       "height": null,
       "justify_content": null,
       "justify_items": null,
       "left": null,
       "margin": null,
       "max_height": null,
       "max_width": null,
       "min_height": null,
       "min_width": null,
       "object_fit": null,
       "object_position": null,
       "order": null,
       "overflow": null,
       "overflow_x": null,
       "overflow_y": null,
       "padding": null,
       "right": null,
       "top": null,
       "visibility": null,
       "width": null
      }
     },
     "a2abcd3508154181aaa08cfbe1ea55f5": {
      "model_module": "@jupyter-widgets/controls",
      "model_module_version": "1.5.0",
      "model_name": "HTMLModel",
      "state": {
       "_dom_classes": [],
       "_model_module": "@jupyter-widgets/controls",
       "_model_module_version": "1.5.0",
       "_model_name": "HTMLModel",
       "_view_count": null,
       "_view_module": "@jupyter-widgets/controls",
       "_view_module_version": "1.5.0",
       "_view_name": "HTMLView",
       "description": "",
       "description_tooltip": null,
       "layout": "IPY_MODEL_77eb2413049245d887e24ba76dde46be",
       "placeholder": "​",
       "style": "IPY_MODEL_fa99bb65edd845929bd7addee29433ab",
       "value": " 239/239 [00:00&lt;00:00, 9.50kB/s]"
      }
     },
     "a9ca9ddeb5314c95ad9ee4ed309cc03e": {
      "model_module": "@jupyter-widgets/base",
      "model_module_version": "1.2.0",
      "model_name": "LayoutModel",
      "state": {
       "_model_module": "@jupyter-widgets/base",
       "_model_module_version": "1.2.0",
       "_model_name": "LayoutModel",
       "_view_count": null,
       "_view_module": "@jupyter-widgets/base",
       "_view_module_version": "1.2.0",
       "_view_name": "LayoutView",
       "align_content": null,
       "align_items": null,
       "align_self": null,
       "border": null,
       "bottom": null,
       "display": null,
       "flex": null,
       "flex_flow": null,
       "grid_area": null,
       "grid_auto_columns": null,
       "grid_auto_flow": null,
       "grid_auto_rows": null,
       "grid_column": null,
       "grid_gap": null,
       "grid_row": null,
       "grid_template_areas": null,
       "grid_template_columns": null,
       "grid_template_rows": null,
       "height": null,
       "justify_content": null,
       "justify_items": null,
       "left": null,
       "margin": null,
       "max_height": null,
       "max_width": null,
       "min_height": null,
       "min_width": null,
       "object_fit": null,
       "object_position": null,
       "order": null,
       "overflow": null,
       "overflow_x": null,
       "overflow_y": null,
       "padding": null,
       "right": null,
       "top": null,
       "visibility": null,
       "width": null
      }
     },
     "ab33f36e5a3f435aa9a4d2c09c5aa7ee": {
      "model_module": "@jupyter-widgets/base",
      "model_module_version": "1.2.0",
      "model_name": "LayoutModel",
      "state": {
       "_model_module": "@jupyter-widgets/base",
       "_model_module_version": "1.2.0",
       "_model_name": "LayoutModel",
       "_view_count": null,
       "_view_module": "@jupyter-widgets/base",
       "_view_module_version": "1.2.0",
       "_view_name": "LayoutView",
       "align_content": null,
       "align_items": null,
       "align_self": null,
       "border": null,
       "bottom": null,
       "display": null,
       "flex": null,
       "flex_flow": null,
       "grid_area": null,
       "grid_auto_columns": null,
       "grid_auto_flow": null,
       "grid_auto_rows": null,
       "grid_column": null,
       "grid_gap": null,
       "grid_row": null,
       "grid_template_areas": null,
       "grid_template_columns": null,
       "grid_template_rows": null,
       "height": null,
       "justify_content": null,
       "justify_items": null,
       "left": null,
       "margin": null,
       "max_height": null,
       "max_width": null,
       "min_height": null,
       "min_width": null,
       "object_fit": null,
       "object_position": null,
       "order": null,
       "overflow": null,
       "overflow_x": null,
       "overflow_y": null,
       "padding": null,
       "right": null,
       "top": null,
       "visibility": null,
       "width": null
      }
     },
     "b0a275da058c4a188fd423e81a44a3ec": {
      "model_module": "@jupyter-widgets/controls",
      "model_module_version": "1.5.0",
      "model_name": "HBoxModel",
      "state": {
       "_dom_classes": [],
       "_model_module": "@jupyter-widgets/controls",
       "_model_module_version": "1.5.0",
       "_model_name": "HBoxModel",
       "_view_count": null,
       "_view_module": "@jupyter-widgets/controls",
       "_view_module_version": "1.5.0",
       "_view_name": "HBoxView",
       "box_style": "",
       "children": [
        "IPY_MODEL_e1a7e4829944482494657f4364a70be1",
        "IPY_MODEL_32f0e233cfc14708a8be475f3a3e62ee",
        "IPY_MODEL_f324f8891c0b46588fb7ff545eb82d66"
       ],
       "layout": "IPY_MODEL_6a3e6fa803bd4e17b010e367a89bd2a8"
      }
     },
     "b19c51b5a2b94183a1a8ea2c2f29158b": {
      "model_module": "@jupyter-widgets/controls",
      "model_module_version": "1.5.0",
      "model_name": "ProgressStyleModel",
      "state": {
       "_model_module": "@jupyter-widgets/controls",
       "_model_module_version": "1.5.0",
       "_model_name": "ProgressStyleModel",
       "_view_count": null,
       "_view_module": "@jupyter-widgets/base",
       "_view_module_version": "1.2.0",
       "_view_name": "StyleView",
       "bar_color": null,
       "description_width": ""
      }
     },
     "b3609ae99abe4382bff565c5b1c07586": {
      "model_module": "@jupyter-widgets/controls",
      "model_module_version": "1.5.0",
      "model_name": "DescriptionStyleModel",
      "state": {
       "_model_module": "@jupyter-widgets/controls",
       "_model_module_version": "1.5.0",
       "_model_name": "DescriptionStyleModel",
       "_view_count": null,
       "_view_module": "@jupyter-widgets/base",
       "_view_module_version": "1.2.0",
       "_view_name": "StyleView",
       "description_width": ""
      }
     },
     "b36e66e23893481f9c0f915a22eb4534": {
      "model_module": "@jupyter-widgets/controls",
      "model_module_version": "1.5.0",
      "model_name": "DescriptionStyleModel",
      "state": {
       "_model_module": "@jupyter-widgets/controls",
       "_model_module_version": "1.5.0",
       "_model_name": "DescriptionStyleModel",
       "_view_count": null,
       "_view_module": "@jupyter-widgets/base",
       "_view_module_version": "1.2.0",
       "_view_name": "StyleView",
       "description_width": ""
      }
     },
     "b45eafbd3d2c4a5291b70f6c5db66ad5": {
      "model_module": "@jupyter-widgets/base",
      "model_module_version": "1.2.0",
      "model_name": "LayoutModel",
      "state": {
       "_model_module": "@jupyter-widgets/base",
       "_model_module_version": "1.2.0",
       "_model_name": "LayoutModel",
       "_view_count": null,
       "_view_module": "@jupyter-widgets/base",
       "_view_module_version": "1.2.0",
       "_view_name": "LayoutView",
       "align_content": null,
       "align_items": null,
       "align_self": null,
       "border": null,
       "bottom": null,
       "display": null,
       "flex": null,
       "flex_flow": null,
       "grid_area": null,
       "grid_auto_columns": null,
       "grid_auto_flow": null,
       "grid_auto_rows": null,
       "grid_column": null,
       "grid_gap": null,
       "grid_row": null,
       "grid_template_areas": null,
       "grid_template_columns": null,
       "grid_template_rows": null,
       "height": null,
       "justify_content": null,
       "justify_items": null,
       "left": null,
       "margin": null,
       "max_height": null,
       "max_width": null,
       "min_height": null,
       "min_width": null,
       "object_fit": null,
       "object_position": null,
       "order": null,
       "overflow": null,
       "overflow_x": null,
       "overflow_y": null,
       "padding": null,
       "right": null,
       "top": null,
       "visibility": null,
       "width": null
      }
     },
     "b728d01f1e25410fad4b8b319c6becf9": {
      "model_module": "@jupyter-widgets/controls",
      "model_module_version": "1.5.0",
      "model_name": "DescriptionStyleModel",
      "state": {
       "_model_module": "@jupyter-widgets/controls",
       "_model_module_version": "1.5.0",
       "_model_name": "DescriptionStyleModel",
       "_view_count": null,
       "_view_module": "@jupyter-widgets/base",
       "_view_module_version": "1.2.0",
       "_view_name": "StyleView",
       "description_width": ""
      }
     },
     "c3359373c51e40ce9664973ad54a37e3": {
      "model_module": "@jupyter-widgets/base",
      "model_module_version": "1.2.0",
      "model_name": "LayoutModel",
      "state": {
       "_model_module": "@jupyter-widgets/base",
       "_model_module_version": "1.2.0",
       "_model_name": "LayoutModel",
       "_view_count": null,
       "_view_module": "@jupyter-widgets/base",
       "_view_module_version": "1.2.0",
       "_view_name": "LayoutView",
       "align_content": null,
       "align_items": null,
       "align_self": null,
       "border": null,
       "bottom": null,
       "display": null,
       "flex": null,
       "flex_flow": null,
       "grid_area": null,
       "grid_auto_columns": null,
       "grid_auto_flow": null,
       "grid_auto_rows": null,
       "grid_column": null,
       "grid_gap": null,
       "grid_row": null,
       "grid_template_areas": null,
       "grid_template_columns": null,
       "grid_template_rows": null,
       "height": null,
       "justify_content": null,
       "justify_items": null,
       "left": null,
       "margin": null,
       "max_height": null,
       "max_width": null,
       "min_height": null,
       "min_width": null,
       "object_fit": null,
       "object_position": null,
       "order": null,
       "overflow": null,
       "overflow_x": null,
       "overflow_y": null,
       "padding": null,
       "right": null,
       "top": null,
       "visibility": null,
       "width": null
      }
     },
     "c5068723981746f6a0bbf1f03f15512c": {
      "model_module": "@jupyter-widgets/controls",
      "model_module_version": "1.5.0",
      "model_name": "DescriptionStyleModel",
      "state": {
       "_model_module": "@jupyter-widgets/controls",
       "_model_module_version": "1.5.0",
       "_model_name": "DescriptionStyleModel",
       "_view_count": null,
       "_view_module": "@jupyter-widgets/base",
       "_view_module_version": "1.2.0",
       "_view_name": "StyleView",
       "description_width": ""
      }
     },
     "c9edfc93fa9a446d81eb5e11aca6bb9b": {
      "model_module": "@jupyter-widgets/controls",
      "model_module_version": "1.5.0",
      "model_name": "HTMLModel",
      "state": {
       "_dom_classes": [],
       "_model_module": "@jupyter-widgets/controls",
       "_model_module_version": "1.5.0",
       "_model_name": "HTMLModel",
       "_view_count": null,
       "_view_module": "@jupyter-widgets/controls",
       "_view_module_version": "1.5.0",
       "_view_name": "HTMLView",
       "description": "",
       "description_tooltip": null,
       "layout": "IPY_MODEL_d5b8d466fe68431ca682cb372f2253d7",
       "placeholder": "​",
       "style": "IPY_MODEL_7c1c3635697846119875aa3a07deeb1d",
       "value": " 2.01M/2.01M [00:00&lt;00:00, 2.90MB/s]"
      }
     },
     "d426a053a19f40279f30c99ed3e98891": {
      "model_module": "@jupyter-widgets/controls",
      "model_module_version": "1.5.0",
      "model_name": "FloatProgressModel",
      "state": {
       "_dom_classes": [],
       "_model_module": "@jupyter-widgets/controls",
       "_model_module_version": "1.5.0",
       "_model_name": "FloatProgressModel",
       "_view_count": null,
       "_view_module": "@jupyter-widgets/controls",
       "_view_module_version": "1.5.0",
       "_view_name": "ProgressView",
       "bar_style": "success",
       "description": "",
       "description_tooltip": null,
       "layout": "IPY_MODEL_a9ca9ddeb5314c95ad9ee4ed309cc03e",
       "max": 2108643.0,
       "min": 0.0,
       "orientation": "horizontal",
       "style": "IPY_MODEL_b19c51b5a2b94183a1a8ea2c2f29158b",
       "value": 2108643.0
      }
     },
     "d5af4ceb6289405fa294f0e30f8779c3": {
      "model_module": "@jupyter-widgets/controls",
      "model_module_version": "1.5.0",
      "model_name": "HTMLModel",
      "state": {
       "_dom_classes": [],
       "_model_module": "@jupyter-widgets/controls",
       "_model_module_version": "1.5.0",
       "_model_name": "HTMLModel",
       "_view_count": null,
       "_view_module": "@jupyter-widgets/controls",
       "_view_module_version": "1.5.0",
       "_view_name": "HTMLView",
       "description": "",
       "description_tooltip": null,
       "layout": "IPY_MODEL_2201161e458243a293e44bac198ff442",
       "placeholder": "​",
       "style": "IPY_MODEL_4edf93c48ae943bf92e74532db75fd14",
       "value": " 476M/476M [00:09&lt;00:00, 58.4MB/s]"
      }
     },
     "d5b8d466fe68431ca682cb372f2253d7": {
      "model_module": "@jupyter-widgets/base",
      "model_module_version": "1.2.0",
      "model_name": "LayoutModel",
      "state": {
       "_model_module": "@jupyter-widgets/base",
       "_model_module_version": "1.2.0",
       "_model_name": "LayoutModel",
       "_view_count": null,
       "_view_module": "@jupyter-widgets/base",
       "_view_module_version": "1.2.0",
       "_view_name": "LayoutView",
       "align_content": null,
       "align_items": null,
       "align_self": null,
       "border": null,
       "bottom": null,
       "display": null,
       "flex": null,
       "flex_flow": null,
       "grid_area": null,
       "grid_auto_columns": null,
       "grid_auto_flow": null,
       "grid_auto_rows": null,
       "grid_column": null,
       "grid_gap": null,
       "grid_row": null,
       "grid_template_areas": null,
       "grid_template_columns": null,
       "grid_template_rows": null,
       "height": null,
       "justify_content": null,
       "justify_items": null,
       "left": null,
       "margin": null,
       "max_height": null,
       "max_width": null,
       "min_height": null,
       "min_width": null,
       "object_fit": null,
       "object_position": null,
       "order": null,
       "overflow": null,
       "overflow_x": null,
       "overflow_y": null,
       "padding": null,
       "right": null,
       "top": null,
       "visibility": null,
       "width": null
      }
     },
     "d604f0f8e37a4f3d9ef060cf32819ae9": {
      "model_module": "@jupyter-widgets/base",
      "model_module_version": "1.2.0",
      "model_name": "LayoutModel",
      "state": {
       "_model_module": "@jupyter-widgets/base",
       "_model_module_version": "1.2.0",
       "_model_name": "LayoutModel",
       "_view_count": null,
       "_view_module": "@jupyter-widgets/base",
       "_view_module_version": "1.2.0",
       "_view_name": "LayoutView",
       "align_content": null,
       "align_items": null,
       "align_self": null,
       "border": null,
       "bottom": null,
       "display": null,
       "flex": null,
       "flex_flow": null,
       "grid_area": null,
       "grid_auto_columns": null,
       "grid_auto_flow": null,
       "grid_auto_rows": null,
       "grid_column": null,
       "grid_gap": null,
       "grid_row": null,
       "grid_template_areas": null,
       "grid_template_columns": null,
       "grid_template_rows": null,
       "height": null,
       "justify_content": null,
       "justify_items": null,
       "left": null,
       "margin": null,
       "max_height": null,
       "max_width": null,
       "min_height": null,
       "min_width": null,
       "object_fit": null,
       "object_position": null,
       "order": null,
       "overflow": null,
       "overflow_x": null,
       "overflow_y": null,
       "padding": null,
       "right": null,
       "top": null,
       "visibility": null,
       "width": null
      }
     },
     "dffabb63bbda435f9da25739688f5eea": {
      "model_module": "@jupyter-widgets/base",
      "model_module_version": "1.2.0",
      "model_name": "LayoutModel",
      "state": {
       "_model_module": "@jupyter-widgets/base",
       "_model_module_version": "1.2.0",
       "_model_name": "LayoutModel",
       "_view_count": null,
       "_view_module": "@jupyter-widgets/base",
       "_view_module_version": "1.2.0",
       "_view_name": "LayoutView",
       "align_content": null,
       "align_items": null,
       "align_self": null,
       "border": null,
       "bottom": null,
       "display": null,
       "flex": null,
       "flex_flow": null,
       "grid_area": null,
       "grid_auto_columns": null,
       "grid_auto_flow": null,
       "grid_auto_rows": null,
       "grid_column": null,
       "grid_gap": null,
       "grid_row": null,
       "grid_template_areas": null,
       "grid_template_columns": null,
       "grid_template_rows": null,
       "height": null,
       "justify_content": null,
       "justify_items": null,
       "left": null,
       "margin": null,
       "max_height": null,
       "max_width": null,
       "min_height": null,
       "min_width": null,
       "object_fit": null,
       "object_position": null,
       "order": null,
       "overflow": null,
       "overflow_x": null,
       "overflow_y": null,
       "padding": null,
       "right": null,
       "top": null,
       "visibility": null,
       "width": null
      }
     },
     "e1a7e4829944482494657f4364a70be1": {
      "model_module": "@jupyter-widgets/controls",
      "model_module_version": "1.5.0",
      "model_name": "HTMLModel",
      "state": {
       "_dom_classes": [],
       "_model_module": "@jupyter-widgets/controls",
       "_model_module_version": "1.5.0",
       "_model_name": "HTMLModel",
       "_view_count": null,
       "_view_module": "@jupyter-widgets/controls",
       "_view_module_version": "1.5.0",
       "_view_name": "HTMLView",
       "description": "",
       "description_tooltip": null,
       "layout": "IPY_MODEL_2653bfaa6e20468d850af2e3b147bd2a",
       "placeholder": "​",
       "style": "IPY_MODEL_1e61e708bc104db781eaa0ce08bf1d33",
       "value": "Downloading: 100%"
      }
     },
     "e8d210ee913040a5b58ea94bfd7efa55": {
      "model_module": "@jupyter-widgets/controls",
      "model_module_version": "1.5.0",
      "model_name": "DescriptionStyleModel",
      "state": {
       "_model_module": "@jupyter-widgets/controls",
       "_model_module_version": "1.5.0",
       "_model_name": "DescriptionStyleModel",
       "_view_count": null,
       "_view_module": "@jupyter-widgets/base",
       "_view_module_version": "1.2.0",
       "_view_name": "StyleView",
       "description_width": ""
      }
     },
     "f324f8891c0b46588fb7ff545eb82d66": {
      "model_module": "@jupyter-widgets/controls",
      "model_module_version": "1.5.0",
      "model_name": "HTMLModel",
      "state": {
       "_dom_classes": [],
       "_model_module": "@jupyter-widgets/controls",
       "_model_module_version": "1.5.0",
       "_model_name": "HTMLModel",
       "_view_count": null,
       "_view_module": "@jupyter-widgets/controls",
       "_view_module_version": "1.5.0",
       "_view_name": "HTMLView",
       "description": "",
       "description_tooltip": null,
       "layout": "IPY_MODEL_90310d7de4354b6aaf8d2d9b14bfa295",
       "placeholder": "​",
       "style": "IPY_MODEL_b3609ae99abe4382bff565c5b1c07586",
       "value": " 349/349 [00:00&lt;00:00, 14.2kB/s]"
      }
     },
     "f393ca4106744745b8b0ad014324ed73": {
      "model_module": "@jupyter-widgets/controls",
      "model_module_version": "1.5.0",
      "model_name": "DescriptionStyleModel",
      "state": {
       "_model_module": "@jupyter-widgets/controls",
       "_model_module_version": "1.5.0",
       "_model_name": "DescriptionStyleModel",
       "_view_count": null,
       "_view_module": "@jupyter-widgets/base",
       "_view_module_version": "1.2.0",
       "_view_name": "StyleView",
       "description_width": ""
      }
     },
     "f4df19513875446c85e29cb56d074768": {
      "model_module": "@jupyter-widgets/controls",
      "model_module_version": "1.5.0",
      "model_name": "DescriptionStyleModel",
      "state": {
       "_model_module": "@jupyter-widgets/controls",
       "_model_module_version": "1.5.0",
       "_model_name": "DescriptionStyleModel",
       "_view_count": null,
       "_view_module": "@jupyter-widgets/base",
       "_view_module_version": "1.2.0",
       "_view_name": "StyleView",
       "description_width": ""
      }
     },
     "fa99bb65edd845929bd7addee29433ab": {
      "model_module": "@jupyter-widgets/controls",
      "model_module_version": "1.5.0",
      "model_name": "DescriptionStyleModel",
      "state": {
       "_model_module": "@jupyter-widgets/controls",
       "_model_module_version": "1.5.0",
       "_model_name": "DescriptionStyleModel",
       "_view_count": null,
       "_view_module": "@jupyter-widgets/base",
       "_view_module_version": "1.2.0",
       "_view_name": "StyleView",
       "description_width": ""
      }
     },
     "fecadee3489744a6971ca88af461f5c5": {
      "model_module": "@jupyter-widgets/controls",
      "model_module_version": "1.5.0",
      "model_name": "HTMLModel",
      "state": {
       "_dom_classes": [],
       "_model_module": "@jupyter-widgets/controls",
       "_model_module_version": "1.5.0",
       "_model_name": "HTMLModel",
       "_view_count": null,
       "_view_module": "@jupyter-widgets/controls",
       "_view_module_version": "1.5.0",
       "_view_name": "HTMLView",
       "description": "",
       "description_tooltip": null,
       "layout": "IPY_MODEL_b45eafbd3d2c4a5291b70f6c5db66ad5",
       "placeholder": "​",
       "style": "IPY_MODEL_119babeaae3c44cf8311a628415d9879",
       "value": "Downloading: 100%"
      }
     }
    },
    "version_major": 2,
    "version_minor": 0
   }
  }
 },
 "nbformat": 4,
 "nbformat_minor": 5
}
